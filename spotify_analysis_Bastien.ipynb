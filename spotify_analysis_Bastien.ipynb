{
 "cells": [
  {
   "cell_type": "code",
   "execution_count": 18,
   "metadata": {},
   "outputs": [
    {
     "name": "stdout",
     "output_type": "stream",
     "text": [
      "32833\n",
      "28356\n"
     ]
    },
    {
     "ename": "KeyError",
     "evalue": "'[23104, 21468] not in index'",
     "output_type": "error",
     "traceback": [
      "\u001b[1;31m---------------------------------------------------------------------------\u001b[0m",
      "\u001b[1;31mKeyError\u001b[0m                                  Traceback (most recent call last)",
      "Cell \u001b[1;32mIn[18], line 18\u001b[0m\n\u001b[0;32m     16\u001b[0m \u001b[38;5;66;03m# Print the rows for the specific indices\u001b[39;00m\n\u001b[0;32m     17\u001b[0m indices_to_print \u001b[38;5;241m=\u001b[39m [\u001b[38;5;241m30202\u001b[39m, \u001b[38;5;241m23104\u001b[39m, \u001b[38;5;241m21468\u001b[39m]\n\u001b[1;32m---> 18\u001b[0m filtered_rows \u001b[38;5;241m=\u001b[39m \u001b[43mtop_100_songs\u001b[49m\u001b[38;5;241;43m.\u001b[39;49m\u001b[43mloc\u001b[49m\u001b[43m[\u001b[49m\u001b[43mindices_to_print\u001b[49m\u001b[43m]\u001b[49m\n\u001b[0;32m     20\u001b[0m \u001b[38;5;66;03m#print(filtered_rows)\u001b[39;00m\n",
      "File \u001b[1;32mc:\\Users\\basti\\OneDrive\\Documents\\EPM\\Cours EPM\\INF8808E Visualisation de données\\Projet\\DataVizH25\\venv\\lib\\site-packages\\pandas\\core\\indexing.py:1103\u001b[0m, in \u001b[0;36m_LocationIndexer.__getitem__\u001b[1;34m(self, key)\u001b[0m\n\u001b[0;32m   1100\u001b[0m axis \u001b[38;5;241m=\u001b[39m \u001b[38;5;28mself\u001b[39m\u001b[38;5;241m.\u001b[39maxis \u001b[38;5;129;01mor\u001b[39;00m \u001b[38;5;241m0\u001b[39m\n\u001b[0;32m   1102\u001b[0m maybe_callable \u001b[38;5;241m=\u001b[39m com\u001b[38;5;241m.\u001b[39mapply_if_callable(key, \u001b[38;5;28mself\u001b[39m\u001b[38;5;241m.\u001b[39mobj)\n\u001b[1;32m-> 1103\u001b[0m \u001b[38;5;28;01mreturn\u001b[39;00m \u001b[38;5;28;43mself\u001b[39;49m\u001b[38;5;241;43m.\u001b[39;49m\u001b[43m_getitem_axis\u001b[49m\u001b[43m(\u001b[49m\u001b[43mmaybe_callable\u001b[49m\u001b[43m,\u001b[49m\u001b[43m \u001b[49m\u001b[43maxis\u001b[49m\u001b[38;5;241;43m=\u001b[39;49m\u001b[43maxis\u001b[49m\u001b[43m)\u001b[49m\n",
      "File \u001b[1;32mc:\\Users\\basti\\OneDrive\\Documents\\EPM\\Cours EPM\\INF8808E Visualisation de données\\Projet\\DataVizH25\\venv\\lib\\site-packages\\pandas\\core\\indexing.py:1332\u001b[0m, in \u001b[0;36m_LocIndexer._getitem_axis\u001b[1;34m(self, key, axis)\u001b[0m\n\u001b[0;32m   1329\u001b[0m     \u001b[38;5;28;01mif\u001b[39;00m \u001b[38;5;28mhasattr\u001b[39m(key, \u001b[38;5;124m\"\u001b[39m\u001b[38;5;124mndim\u001b[39m\u001b[38;5;124m\"\u001b[39m) \u001b[38;5;129;01mand\u001b[39;00m key\u001b[38;5;241m.\u001b[39mndim \u001b[38;5;241m>\u001b[39m \u001b[38;5;241m1\u001b[39m:\n\u001b[0;32m   1330\u001b[0m         \u001b[38;5;28;01mraise\u001b[39;00m \u001b[38;5;167;01mValueError\u001b[39;00m(\u001b[38;5;124m\"\u001b[39m\u001b[38;5;124mCannot index with multidimensional key\u001b[39m\u001b[38;5;124m\"\u001b[39m)\n\u001b[1;32m-> 1332\u001b[0m     \u001b[38;5;28;01mreturn\u001b[39;00m \u001b[38;5;28;43mself\u001b[39;49m\u001b[38;5;241;43m.\u001b[39;49m\u001b[43m_getitem_iterable\u001b[49m\u001b[43m(\u001b[49m\u001b[43mkey\u001b[49m\u001b[43m,\u001b[49m\u001b[43m \u001b[49m\u001b[43maxis\u001b[49m\u001b[38;5;241;43m=\u001b[39;49m\u001b[43maxis\u001b[49m\u001b[43m)\u001b[49m\n\u001b[0;32m   1334\u001b[0m \u001b[38;5;66;03m# nested tuple slicing\u001b[39;00m\n\u001b[0;32m   1335\u001b[0m \u001b[38;5;28;01mif\u001b[39;00m is_nested_tuple(key, labels):\n",
      "File \u001b[1;32mc:\\Users\\basti\\OneDrive\\Documents\\EPM\\Cours EPM\\INF8808E Visualisation de données\\Projet\\DataVizH25\\venv\\lib\\site-packages\\pandas\\core\\indexing.py:1272\u001b[0m, in \u001b[0;36m_LocIndexer._getitem_iterable\u001b[1;34m(self, key, axis)\u001b[0m\n\u001b[0;32m   1269\u001b[0m \u001b[38;5;28mself\u001b[39m\u001b[38;5;241m.\u001b[39m_validate_key(key, axis)\n\u001b[0;32m   1271\u001b[0m \u001b[38;5;66;03m# A collection of keys\u001b[39;00m\n\u001b[1;32m-> 1272\u001b[0m keyarr, indexer \u001b[38;5;241m=\u001b[39m \u001b[38;5;28;43mself\u001b[39;49m\u001b[38;5;241;43m.\u001b[39;49m\u001b[43m_get_listlike_indexer\u001b[49m\u001b[43m(\u001b[49m\u001b[43mkey\u001b[49m\u001b[43m,\u001b[49m\u001b[43m \u001b[49m\u001b[43maxis\u001b[49m\u001b[43m)\u001b[49m\n\u001b[0;32m   1273\u001b[0m \u001b[38;5;28;01mreturn\u001b[39;00m \u001b[38;5;28mself\u001b[39m\u001b[38;5;241m.\u001b[39mobj\u001b[38;5;241m.\u001b[39m_reindex_with_indexers(\n\u001b[0;32m   1274\u001b[0m     {axis: [keyarr, indexer]}, copy\u001b[38;5;241m=\u001b[39m\u001b[38;5;28;01mTrue\u001b[39;00m, allow_dups\u001b[38;5;241m=\u001b[39m\u001b[38;5;28;01mTrue\u001b[39;00m\n\u001b[0;32m   1275\u001b[0m )\n",
      "File \u001b[1;32mc:\\Users\\basti\\OneDrive\\Documents\\EPM\\Cours EPM\\INF8808E Visualisation de données\\Projet\\DataVizH25\\venv\\lib\\site-packages\\pandas\\core\\indexing.py:1462\u001b[0m, in \u001b[0;36m_LocIndexer._get_listlike_indexer\u001b[1;34m(self, key, axis)\u001b[0m\n\u001b[0;32m   1459\u001b[0m ax \u001b[38;5;241m=\u001b[39m \u001b[38;5;28mself\u001b[39m\u001b[38;5;241m.\u001b[39mobj\u001b[38;5;241m.\u001b[39m_get_axis(axis)\n\u001b[0;32m   1460\u001b[0m axis_name \u001b[38;5;241m=\u001b[39m \u001b[38;5;28mself\u001b[39m\u001b[38;5;241m.\u001b[39mobj\u001b[38;5;241m.\u001b[39m_get_axis_name(axis)\n\u001b[1;32m-> 1462\u001b[0m keyarr, indexer \u001b[38;5;241m=\u001b[39m \u001b[43max\u001b[49m\u001b[38;5;241;43m.\u001b[39;49m\u001b[43m_get_indexer_strict\u001b[49m\u001b[43m(\u001b[49m\u001b[43mkey\u001b[49m\u001b[43m,\u001b[49m\u001b[43m \u001b[49m\u001b[43maxis_name\u001b[49m\u001b[43m)\u001b[49m\n\u001b[0;32m   1464\u001b[0m \u001b[38;5;28;01mreturn\u001b[39;00m keyarr, indexer\n",
      "File \u001b[1;32mc:\\Users\\basti\\OneDrive\\Documents\\EPM\\Cours EPM\\INF8808E Visualisation de données\\Projet\\DataVizH25\\venv\\lib\\site-packages\\pandas\\core\\indexes\\base.py:5877\u001b[0m, in \u001b[0;36mIndex._get_indexer_strict\u001b[1;34m(self, key, axis_name)\u001b[0m\n\u001b[0;32m   5874\u001b[0m \u001b[38;5;28;01melse\u001b[39;00m:\n\u001b[0;32m   5875\u001b[0m     keyarr, indexer, new_indexer \u001b[38;5;241m=\u001b[39m \u001b[38;5;28mself\u001b[39m\u001b[38;5;241m.\u001b[39m_reindex_non_unique(keyarr)\n\u001b[1;32m-> 5877\u001b[0m \u001b[38;5;28;43mself\u001b[39;49m\u001b[38;5;241;43m.\u001b[39;49m\u001b[43m_raise_if_missing\u001b[49m\u001b[43m(\u001b[49m\u001b[43mkeyarr\u001b[49m\u001b[43m,\u001b[49m\u001b[43m \u001b[49m\u001b[43mindexer\u001b[49m\u001b[43m,\u001b[49m\u001b[43m \u001b[49m\u001b[43maxis_name\u001b[49m\u001b[43m)\u001b[49m\n\u001b[0;32m   5879\u001b[0m keyarr \u001b[38;5;241m=\u001b[39m \u001b[38;5;28mself\u001b[39m\u001b[38;5;241m.\u001b[39mtake(indexer)\n\u001b[0;32m   5880\u001b[0m \u001b[38;5;28;01mif\u001b[39;00m \u001b[38;5;28misinstance\u001b[39m(key, Index):\n\u001b[0;32m   5881\u001b[0m     \u001b[38;5;66;03m# GH 42790 - Preserve name from an Index\u001b[39;00m\n",
      "File \u001b[1;32mc:\\Users\\basti\\OneDrive\\Documents\\EPM\\Cours EPM\\INF8808E Visualisation de données\\Projet\\DataVizH25\\venv\\lib\\site-packages\\pandas\\core\\indexes\\base.py:5941\u001b[0m, in \u001b[0;36mIndex._raise_if_missing\u001b[1;34m(self, key, indexer, axis_name)\u001b[0m\n\u001b[0;32m   5938\u001b[0m     \u001b[38;5;28;01mraise\u001b[39;00m \u001b[38;5;167;01mKeyError\u001b[39;00m(\u001b[38;5;124mf\u001b[39m\u001b[38;5;124m\"\u001b[39m\u001b[38;5;124mNone of [\u001b[39m\u001b[38;5;132;01m{\u001b[39;00mkey\u001b[38;5;132;01m}\u001b[39;00m\u001b[38;5;124m] are in the [\u001b[39m\u001b[38;5;132;01m{\u001b[39;00maxis_name\u001b[38;5;132;01m}\u001b[39;00m\u001b[38;5;124m]\u001b[39m\u001b[38;5;124m\"\u001b[39m)\n\u001b[0;32m   5940\u001b[0m not_found \u001b[38;5;241m=\u001b[39m \u001b[38;5;28mlist\u001b[39m(ensure_index(key)[missing_mask\u001b[38;5;241m.\u001b[39mnonzero()[\u001b[38;5;241m0\u001b[39m]]\u001b[38;5;241m.\u001b[39munique())\n\u001b[1;32m-> 5941\u001b[0m \u001b[38;5;28;01mraise\u001b[39;00m \u001b[38;5;167;01mKeyError\u001b[39;00m(\u001b[38;5;124mf\u001b[39m\u001b[38;5;124m\"\u001b[39m\u001b[38;5;132;01m{\u001b[39;00mnot_found\u001b[38;5;132;01m}\u001b[39;00m\u001b[38;5;124m not in index\u001b[39m\u001b[38;5;124m\"\u001b[39m)\n",
      "\u001b[1;31mKeyError\u001b[0m: '[23104, 21468] not in index'"
     ]
    }
   ],
   "source": [
    "import pandas as pd\n",
    "\n",
    "# Load the CSV file\n",
    "file_path = \"data\\spotify_songs.csv\"  # Replace with your CSV file path\n",
    "data = pd.read_csv(file_path)\n",
    "\n",
    "# Sort the songs by track popularity in descending order\n",
    "sorted_data = data.sort_values(by=\"track_popularity\", ascending=False)\n",
    "print(len(sorted_data))\n",
    "# Select the top 100 most popular songs\n",
    "top_100_songs = sorted_data#.head(100)\n",
    "\n",
    "# Drop duplicates\n",
    "top_100_songs = top_100_songs.drop_duplicates(subset=[\"track_id\"])\n",
    "print(len(top_100_songs))\n",
    "# Print the rows for the specific indices\n",
    "indices_to_print = [30202, 23104, 21468]\n",
    "filtered_rows = top_100_songs.loc[indices_to_print]\n",
    "\n",
    "#print(filtered_rows)\n"
   ]
  },
  {
   "cell_type": "code",
   "execution_count": 19,
   "metadata": {},
   "outputs": [
    {
     "name": "stdout",
     "output_type": "stream",
     "text": [
      "Nombre de track_id uniques : 28356\n"
     ]
    }
   ],
   "source": [
    "import pandas as pd\n",
    "\n",
    "# Charger le fichier CSV\n",
    "file_path = \"data\\spotify_songs.csv\"  # Remplacez par le chemin de votre fichier\n",
    "data = pd.read_csv(file_path)\n",
    "\n",
    "# Calculer le nombre de track_id uniques\n",
    "unique_track_ids = data['track_id'].nunique()\n",
    "\n",
    "# Afficher le résultat\n",
    "print(f\"Nombre de track_id uniques : {unique_track_ids}\")\n"
   ]
  },
  {
   "cell_type": "code",
   "execution_count": 14,
   "metadata": {},
   "outputs": [
    {
     "name": "stdout",
     "output_type": "stream",
     "text": [
      "Empty DataFrame\n",
      "Columns: [track_id, track_name, track_artist, track_popularity, track_album_id, track_album_name, track_album_release_date, playlist_name, playlist_id, playlist_genre, playlist_subgenre, danceability, energy, key, loudness, mode, speechiness, acousticness, instrumentalness, liveness, valence, tempo, duration_ms]\n",
      "Index: []\n",
      "\n",
      "[0 rows x 23 columns]\n"
     ]
    }
   ],
   "source": [
    "# Specify the IDs you want to retrieve\n",
    "ids_to_find = [30202, 23104, 21468]\n",
    "\n",
    "# Filter the rows with the specified IDs\n",
    "filtered_rows = data[data['track_id'].isin(ids_to_find)]\n",
    "\n",
    "# Print the filtered rows\n",
    "print(filtered_rows)"
   ]
  },
  {
   "cell_type": "code",
   "execution_count": 5,
   "metadata": {},
   "outputs": [
    {
     "name": "stdout",
     "output_type": "stream",
     "text": [
      "Total number of duplicate rows: 0\n",
      "\n",
      "Duplicates based on ['track_name', 'track_artist']:\n",
      "                     track_id  \\\n",
      "193    3BOcWxFUURAomDXRSDFve4   \n",
      "209    4TIkSdsNSfqpuq6ZYvCjAz   \n",
      "232    3sHuIjfAzluc6S9cXoqfqC   \n",
      "272    36orMWv2PgvnzXsd5CJ0yL   \n",
      "294    7rpyHKSH3dkrsKEgv1eNgv   \n",
      "...                       ...   \n",
      "32799  5SMYN4lHZduUD8SQ0TEHj2   \n",
      "32800  5yl2YyDgcpERTZoZHD9Etl   \n",
      "32804  2KlZexJjJPuNWcN5uAG1GU   \n",
      "32808  5QcSDOm6mcvFDl7KBT1fHv   \n",
      "32824  3zKST4nk4QJE77oLjUZ0Ng   \n",
      "\n",
      "                                              track_name      track_artist  \\\n",
      "193                                       Something Real  Armin van Buuren   \n",
      "209           All You Need To Know (feat. Calle Lehmann)           Gryffin   \n",
      "232                                         Let It Be Me        Steve Aoki   \n",
      "272                             Post Malone (feat. RANI)         Sam Feldt   \n",
      "294    Woke Up Late (feat. Hailee Steinfeld) - Sam Fe...      Drax Project   \n",
      "...                                                  ...               ...   \n",
      "32799                                      Ten Feet Tall          Afrojack   \n",
      "32800                                           Dynamite      Gareth Emery   \n",
      "32804                                  Gold (feat. Yuna)    Adventure Club   \n",
      "32808             Spaceman - Carnage Festival Trap Remix          Hardwell   \n",
      "32824                                        Hey Brother            Avicii   \n",
      "\n",
      "       track_popularity          track_album_id  \\\n",
      "193                  58  5cqwXF2j9LkvFInBFlnQd3   \n",
      "209                  68  2IAVHJdaRPFA6MQqXHoG75   \n",
      "232                  23  5ocW53VBnOprl6EAMOLGet   \n",
      "272                  75  45nsubB5EsRVWWqx0ED1ET   \n",
      "294                  56  5VW1WffQj2SqKUhwnNq1xJ   \n",
      "...                 ...                     ...   \n",
      "32799                 0  0DzZnIm8Em2tG8rG1co792   \n",
      "32800                 0  3Zm13AWIMBpJbwFzenqy9V   \n",
      "32804                 1  2DVyzKYzqlQo4uTJLVtvBt   \n",
      "32808                54  0GjLUjalniPkdkafJnkNFz   \n",
      "32824                20  02h9kO2oLKnLtycgbElKsw   \n",
      "\n",
      "                                        track_album_name  \\\n",
      "193                                              Balance   \n",
      "209                                              Gravity   \n",
      "232                                         Let It Be Me   \n",
      "272           Post Malone (feat. RANI) [Joe Stone Remix]   \n",
      "294    Woke Up Late (feat. Hailee Steinfeld) [Sam Fel...   \n",
      "...                                                  ...   \n",
      "32799                                      Ten Feet Tall   \n",
      "32800                                              Drive   \n",
      "32804                            Calling All Heroes - EP   \n",
      "32808             Spaceman (Carnage Festival Trap Remix)   \n",
      "32824                                               True   \n",
      "\n",
      "      track_album_release_date    playlist_name             playlist_id  \\\n",
      "193                 2019-10-25       Dance Room  37i9dQZF1DX2ENAPP1Tyed   \n",
      "209                 2019-10-24       Dance Room  37i9dQZF1DX2ENAPP1Tyed   \n",
      "232                 2019-09-06           Cardio  37i9dQZF1DWSJHnPb1f0X3   \n",
      "272                 2019-08-16   Dance Pop Hits  37i9dQZF1DX6pH08wMhkaI   \n",
      "294                 2019-05-02   Dance Pop Hits  37i9dQZF1DX6pH08wMhkaI   \n",
      "...                        ...              ...                     ...   \n",
      "32799               2014-01-01  ♥ EDM LOVE 2020  6jI1gFr6ANFtT8MmTvA2Ux   \n",
      "32800               2014-04-01  ♥ EDM LOVE 2020  6jI1gFr6ANFtT8MmTvA2Ux   \n",
      "32804               2013-10-22  ♥ EDM LOVE 2020  6jI1gFr6ANFtT8MmTvA2Ux   \n",
      "32808               2012-12-29  ♥ EDM LOVE 2020  6jI1gFr6ANFtT8MmTvA2Ux   \n",
      "32824               2013-01-01  ♥ EDM LOVE 2020  6jI1gFr6ANFtT8MmTvA2Ux   \n",
      "\n",
      "      playlist_genre  ... key  loudness  mode  speechiness  acousticness  \\\n",
      "193              pop  ...   1    -4.578     1       0.0439       0.04460   \n",
      "209              pop  ...   0    -6.019     1       0.0376       0.00699   \n",
      "232              pop  ...   7    -5.299     1       0.0864       0.07970   \n",
      "272              pop  ...   7    -3.870     1       0.1220       0.07710   \n",
      "294              pop  ...   0    -3.753     1       0.0978       0.07170   \n",
      "...              ...  ...  ..       ...   ...          ...           ...   \n",
      "32799            edm  ...   0    -3.429     1       0.0639       0.03560   \n",
      "32800            edm  ...   5    -6.113     1       0.0312       0.01110   \n",
      "32804            edm  ...   9    -4.893     0       0.0413       0.03190   \n",
      "32808            edm  ...  11    -8.976     1       0.0777       0.02350   \n",
      "32824            edm  ...   7    -4.867     0       0.0436       0.03090   \n",
      "\n",
      "       instrumentalness  liveness  valence    tempo  duration_ms  \n",
      "193            0.000000    0.0693    0.232  127.922       179531  \n",
      "209            0.000000    0.1030    0.219  139.929       238338  \n",
      "232            0.000000    0.1060    0.387  114.098       224061  \n",
      "272            0.000000    0.1050    0.651  107.356       174444  \n",
      "294            0.000000    0.1080    0.499  122.055       196475  \n",
      "...                 ...       ...      ...      ...          ...  \n",
      "32799          0.000000    0.1400    0.346  127.021       233353  \n",
      "32800          0.656000    0.0991    0.314  127.986       292284  \n",
      "32804          0.005360    0.1280    0.189  145.022       257045  \n",
      "32808          0.768000    0.1010    0.238  139.987       234160  \n",
      "32824          0.000046    0.0828    0.458  125.014       255093  \n",
      "\n",
      "[6603 rows x 23 columns]\n"
     ]
    }
   ],
   "source": [
    "# Check for duplicate rows (based on all columns)\n",
    "duplicates = data[data.duplicated()]\n",
    "\n",
    "# Count the total number of duplicate rows\n",
    "total_duplicates = len(duplicates)\n",
    "\n",
    "# Print summary of duplicates\n",
    "print(f\"Total number of duplicate rows: {total_duplicates}\")\n",
    "if total_duplicates > 0:\n",
    "    print(\"\\nDuplicate rows:\")\n",
    "    print(duplicates)\n",
    "\n",
    "# Optional: Analyze duplicates for specific columns\n",
    "duplicate_columns = [\"track_name\", \"track_artist\"]  # Example columns\n",
    "duplicates_by_columns = data[data.duplicated(subset=duplicate_columns)]\n",
    "print(f\"\\nDuplicates based on {duplicate_columns}:\")\n",
    "print(duplicates_by_columns)\n"
   ]
  },
  {
   "cell_type": "code",
   "execution_count": 11,
   "metadata": {},
   "outputs": [
    {
     "name": "stdout",
     "output_type": "stream",
     "text": [
      "No duplicate rows found in the dataset.\n"
     ]
    }
   ],
   "source": [
    "# Find duplicate rows (based on all columns)\n",
    "duplicate_columns = [\"track_name\", \"track_artist\"]  # Example columns\n",
    "duplicates_by_columns = data[data.duplicated(subset=duplicate_columns)]\n",
    "\n",
    "# Check if there are any duplicates\n",
    "if not duplicates.empty:\n",
    "    # Print one example of duplicate rows\n",
    "    print(\"An example of a duplicate row:\")\n",
    "    print(duplicates_by_columns.iloc[0])  # Display the first duplicate row\n",
    "else:\n",
    "    print(\"No duplicate rows found in the dataset.\")"
   ]
  }
 ],
 "metadata": {
  "kernelspec": {
   "display_name": "venv",
   "language": "python",
   "name": "python3"
  },
  "language_info": {
   "codemirror_mode": {
    "name": "ipython",
    "version": 3
   },
   "file_extension": ".py",
   "mimetype": "text/x-python",
   "name": "python",
   "nbconvert_exporter": "python",
   "pygments_lexer": "ipython3",
   "version": "3.8.10"
  }
 },
 "nbformat": 4,
 "nbformat_minor": 2
}
