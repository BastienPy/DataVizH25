{
 "cells": [
  {
   "cell_type": "code",
   "execution_count": 1,
   "metadata": {},
   "outputs": [
    {
     "name": "stdout",
     "output_type": "stream",
     "text": [
      "(32833, 23)\n",
      "(28356, 23)\n",
      "(28352, 23)\n"
     ]
    }
   ],
   "source": [
    "import pandas as pd \n",
    "\n",
    "df = pd.read_csv('dataset\\spotify_songs.csv')\n",
    "print(df.shape)\n",
    "df = df.drop_duplicates(subset='track_id')\n",
    "print(df.shape)\n",
    "\n",
    "df = df.dropna()\n",
    "print(df.shape)\n",
    "\n",
    "# Save the cleaned dataframe to a new CSV file\n",
    "df.to_csv('dataset/spotify_songs_clean.csv', index=False)"
   ]
  },
  {
   "cell_type": "code",
   "execution_count": 2,
   "metadata": {},
   "outputs": [
    {
     "data": {
      "text/html": [
       "<div>\n",
       "<style scoped>\n",
       "    .dataframe tbody tr th:only-of-type {\n",
       "        vertical-align: middle;\n",
       "    }\n",
       "\n",
       "    .dataframe tbody tr th {\n",
       "        vertical-align: top;\n",
       "    }\n",
       "\n",
       "    .dataframe thead th {\n",
       "        text-align: right;\n",
       "    }\n",
       "</style>\n",
       "<table border=\"1\" class=\"dataframe\">\n",
       "  <thead>\n",
       "    <tr style=\"text-align: right;\">\n",
       "      <th></th>\n",
       "      <th>track_popularity</th>\n",
       "      <th>danceability</th>\n",
       "      <th>energy</th>\n",
       "      <th>key</th>\n",
       "      <th>loudness</th>\n",
       "      <th>mode</th>\n",
       "      <th>speechiness</th>\n",
       "      <th>acousticness</th>\n",
       "      <th>instrumentalness</th>\n",
       "      <th>liveness</th>\n",
       "      <th>valence</th>\n",
       "      <th>tempo</th>\n",
       "      <th>duration_ms</th>\n",
       "    </tr>\n",
       "  </thead>\n",
       "  <tbody>\n",
       "    <tr>\n",
       "      <th>count</th>\n",
       "      <td>28352.000000</td>\n",
       "      <td>28352.000000</td>\n",
       "      <td>28352.000000</td>\n",
       "      <td>28352.000000</td>\n",
       "      <td>28352.000000</td>\n",
       "      <td>28352.000000</td>\n",
       "      <td>28352.000000</td>\n",
       "      <td>28352.000000</td>\n",
       "      <td>28352.000000</td>\n",
       "      <td>28352.000000</td>\n",
       "      <td>28352.000000</td>\n",
       "      <td>28352.000000</td>\n",
       "      <td>28352.000000</td>\n",
       "    </tr>\n",
       "    <tr>\n",
       "      <th>mean</th>\n",
       "      <td>39.335320</td>\n",
       "      <td>0.653375</td>\n",
       "      <td>0.698373</td>\n",
       "      <td>5.367417</td>\n",
       "      <td>-6.817777</td>\n",
       "      <td>0.565533</td>\n",
       "      <td>0.107939</td>\n",
       "      <td>0.177192</td>\n",
       "      <td>0.091129</td>\n",
       "      <td>0.190955</td>\n",
       "      <td>0.510386</td>\n",
       "      <td>120.958219</td>\n",
       "      <td>226574.631102</td>\n",
       "    </tr>\n",
       "    <tr>\n",
       "      <th>std</th>\n",
       "      <td>23.699443</td>\n",
       "      <td>0.145791</td>\n",
       "      <td>0.183508</td>\n",
       "      <td>3.613743</td>\n",
       "      <td>3.036433</td>\n",
       "      <td>0.495696</td>\n",
       "      <td>0.102547</td>\n",
       "      <td>0.222814</td>\n",
       "      <td>0.232562</td>\n",
       "      <td>0.155888</td>\n",
       "      <td>0.234344</td>\n",
       "      <td>26.954502</td>\n",
       "      <td>61081.363704</td>\n",
       "    </tr>\n",
       "    <tr>\n",
       "      <th>min</th>\n",
       "      <td>0.000000</td>\n",
       "      <td>0.000000</td>\n",
       "      <td>0.000175</td>\n",
       "      <td>0.000000</td>\n",
       "      <td>-46.448000</td>\n",
       "      <td>0.000000</td>\n",
       "      <td>0.000000</td>\n",
       "      <td>0.000000</td>\n",
       "      <td>0.000000</td>\n",
       "      <td>0.000000</td>\n",
       "      <td>0.000000</td>\n",
       "      <td>0.000000</td>\n",
       "      <td>4000.000000</td>\n",
       "    </tr>\n",
       "    <tr>\n",
       "      <th>25%</th>\n",
       "      <td>21.000000</td>\n",
       "      <td>0.561000</td>\n",
       "      <td>0.579000</td>\n",
       "      <td>2.000000</td>\n",
       "      <td>-8.310250</td>\n",
       "      <td>0.000000</td>\n",
       "      <td>0.041000</td>\n",
       "      <td>0.014300</td>\n",
       "      <td>0.000000</td>\n",
       "      <td>0.092600</td>\n",
       "      <td>0.329000</td>\n",
       "      <td>99.972000</td>\n",
       "      <td>187741.250000</td>\n",
       "    </tr>\n",
       "    <tr>\n",
       "      <th>50%</th>\n",
       "      <td>42.000000</td>\n",
       "      <td>0.670000</td>\n",
       "      <td>0.722000</td>\n",
       "      <td>6.000000</td>\n",
       "      <td>-6.261000</td>\n",
       "      <td>1.000000</td>\n",
       "      <td>0.062600</td>\n",
       "      <td>0.079700</td>\n",
       "      <td>0.000021</td>\n",
       "      <td>0.127000</td>\n",
       "      <td>0.512000</td>\n",
       "      <td>121.993500</td>\n",
       "      <td>216933.000000</td>\n",
       "    </tr>\n",
       "    <tr>\n",
       "      <th>75%</th>\n",
       "      <td>58.000000</td>\n",
       "      <td>0.760000</td>\n",
       "      <td>0.843000</td>\n",
       "      <td>9.000000</td>\n",
       "      <td>-4.708750</td>\n",
       "      <td>1.000000</td>\n",
       "      <td>0.133000</td>\n",
       "      <td>0.260000</td>\n",
       "      <td>0.006573</td>\n",
       "      <td>0.249000</td>\n",
       "      <td>0.695000</td>\n",
       "      <td>133.999000</td>\n",
       "      <td>254975.250000</td>\n",
       "    </tr>\n",
       "    <tr>\n",
       "      <th>max</th>\n",
       "      <td>100.000000</td>\n",
       "      <td>0.983000</td>\n",
       "      <td>1.000000</td>\n",
       "      <td>11.000000</td>\n",
       "      <td>1.275000</td>\n",
       "      <td>1.000000</td>\n",
       "      <td>0.918000</td>\n",
       "      <td>0.994000</td>\n",
       "      <td>0.994000</td>\n",
       "      <td>0.996000</td>\n",
       "      <td>0.991000</td>\n",
       "      <td>239.440000</td>\n",
       "      <td>517810.000000</td>\n",
       "    </tr>\n",
       "  </tbody>\n",
       "</table>\n",
       "</div>"
      ],
      "text/plain": [
       "       track_popularity  danceability        energy           key  \\\n",
       "count      28352.000000  28352.000000  28352.000000  28352.000000   \n",
       "mean          39.335320      0.653375      0.698373      5.367417   \n",
       "std           23.699443      0.145791      0.183508      3.613743   \n",
       "min            0.000000      0.000000      0.000175      0.000000   \n",
       "25%           21.000000      0.561000      0.579000      2.000000   \n",
       "50%           42.000000      0.670000      0.722000      6.000000   \n",
       "75%           58.000000      0.760000      0.843000      9.000000   \n",
       "max          100.000000      0.983000      1.000000     11.000000   \n",
       "\n",
       "           loudness          mode   speechiness  acousticness  \\\n",
       "count  28352.000000  28352.000000  28352.000000  28352.000000   \n",
       "mean      -6.817777      0.565533      0.107939      0.177192   \n",
       "std        3.036433      0.495696      0.102547      0.222814   \n",
       "min      -46.448000      0.000000      0.000000      0.000000   \n",
       "25%       -8.310250      0.000000      0.041000      0.014300   \n",
       "50%       -6.261000      1.000000      0.062600      0.079700   \n",
       "75%       -4.708750      1.000000      0.133000      0.260000   \n",
       "max        1.275000      1.000000      0.918000      0.994000   \n",
       "\n",
       "       instrumentalness      liveness       valence         tempo  \\\n",
       "count      28352.000000  28352.000000  28352.000000  28352.000000   \n",
       "mean           0.091129      0.190955      0.510386    120.958219   \n",
       "std            0.232562      0.155888      0.234344     26.954502   \n",
       "min            0.000000      0.000000      0.000000      0.000000   \n",
       "25%            0.000000      0.092600      0.329000     99.972000   \n",
       "50%            0.000021      0.127000      0.512000    121.993500   \n",
       "75%            0.006573      0.249000      0.695000    133.999000   \n",
       "max            0.994000      0.996000      0.991000    239.440000   \n",
       "\n",
       "         duration_ms  \n",
       "count   28352.000000  \n",
       "mean   226574.631102  \n",
       "std     61081.363704  \n",
       "min      4000.000000  \n",
       "25%    187741.250000  \n",
       "50%    216933.000000  \n",
       "75%    254975.250000  \n",
       "max    517810.000000  "
      ]
     },
     "execution_count": 2,
     "metadata": {},
     "output_type": "execute_result"
    }
   ],
   "source": [
    "df.describe()"
   ]
  },
  {
   "cell_type": "code",
   "execution_count": 48,
   "metadata": {},
   "outputs": [
    {
     "data": {
      "text/plain": [
       "track_id                     object\n",
       "track_name                   object\n",
       "track_artist                 object\n",
       "track_popularity              int64\n",
       "track_album_id               object\n",
       "track_album_name             object\n",
       "track_album_release_date     object\n",
       "playlist_name                object\n",
       "playlist_id                  object\n",
       "playlist_genre               object\n",
       "playlist_subgenre            object\n",
       "danceability                float64\n",
       "energy                      float64\n",
       "key                           int64\n",
       "loudness                    float64\n",
       "mode                          int64\n",
       "speechiness                 float64\n",
       "acousticness                float64\n",
       "instrumentalness            float64\n",
       "liveness                    float64\n",
       "valence                     float64\n",
       "tempo                       float64\n",
       "duration_ms                   int64\n",
       "release_year                float64\n",
       "dtype: object"
      ]
     },
     "execution_count": 48,
     "metadata": {},
     "output_type": "execute_result"
    }
   ],
   "source": [
    "df.dtypes"
   ]
  },
  {
   "cell_type": "code",
   "execution_count": 27,
   "metadata": {},
   "outputs": [
    {
     "name": "stdout",
     "output_type": "stream",
     "text": [
      "[ 6 11  1  7  8  5  4  2  0 10  9  3]\n"
     ]
    }
   ],
   "source": [
    "# count the number of uniques values for each columns\n",
    "df.nunique()\n",
    "# print all the different values for the column key\n",
    "print(df['key'].unique())"
   ]
  },
  {
   "cell_type": "code",
   "execution_count": 12,
   "metadata": {},
   "outputs": [
    {
     "data": {
      "text/plain": [
       "Text(0, 0.5, '')"
      ]
     },
     "execution_count": 12,
     "metadata": {},
     "output_type": "execute_result"
    },
    {
     "data": {
      "image/png": "[encoded data removed]",
      "text/plain": [
       "<Figure size 400x400 with 1 Axes>"
      ]
     },
     "metadata": {},
     "output_type": "display_data"
    }
   ],
   "source": [
    "#plot an histogram of the popularity and remove the y label\n",
    "# Convert the 'track_album_release_date' to datetime if not already done\n",
    "# Plot a histogram of the popularity and remove the y label\n",
    "df['loudness'].plot.hist(bins=20, figsize=(4, 4)).yaxis.set_label_text('')\n",
    "\n",
    "# make a pie chart for the mode column\n",
    "#df['mode'].value_counts().plot.pie(figsize=(4, 4)).set_ylabel('')\n"
   ]
  },
  {
   "cell_type": "code",
   "execution_count": 40,
   "metadata": {},
   "outputs": [
    {
     "data": {
      "text/html": [
       "<div>\n",
       "<style scoped>\n",
       "    .dataframe tbody tr th:only-of-type {\n",
       "        vertical-align: middle;\n",
       "    }\n",
       "\n",
       "    .dataframe tbody tr th {\n",
       "        vertical-align: top;\n",
       "    }\n",
       "\n",
       "    .dataframe thead th {\n",
       "        text-align: right;\n",
       "    }\n",
       "</style>\n",
       "<table border=\"1\" class=\"dataframe\">\n",
       "  <thead>\n",
       "    <tr style=\"text-align: right;\">\n",
       "      <th></th>\n",
       "      <th>track_id</th>\n",
       "      <th>track_name</th>\n",
       "      <th>track_artist</th>\n",
       "      <th>track_popularity</th>\n",
       "      <th>track_album_id</th>\n",
       "      <th>track_album_name</th>\n",
       "      <th>track_album_release_date</th>\n",
       "      <th>playlist_name</th>\n",
       "      <th>playlist_id</th>\n",
       "      <th>playlist_genre</th>\n",
       "      <th>...</th>\n",
       "      <th>mode</th>\n",
       "      <th>speechiness</th>\n",
       "      <th>acousticness</th>\n",
       "      <th>instrumentalness</th>\n",
       "      <th>liveness</th>\n",
       "      <th>valence</th>\n",
       "      <th>tempo</th>\n",
       "      <th>duration_ms</th>\n",
       "      <th>name_count</th>\n",
       "      <th>id_count</th>\n",
       "    </tr>\n",
       "  </thead>\n",
       "  <tbody>\n",
       "    <tr>\n",
       "      <th>23851</th>\n",
       "      <td>6Na5uKk5SsqZimk0hAWo8y</td>\n",
       "      <td>Signs</td>\n",
       "      <td>Drake</td>\n",
       "      <td>70</td>\n",
       "      <td>1JZxCJ86P4GUYkHj03CgDT</td>\n",
       "      <td>Signs</td>\n",
       "      <td>2017-06-23</td>\n",
       "      <td>Today's Hits (Clean)</td>\n",
       "      <td>7ENISpOJhocpMJVcGb0qcT</td>\n",
       "      <td>r&amp;b</td>\n",
       "      <td>...</td>\n",
       "      <td>1</td>\n",
       "      <td>0.054</td>\n",
       "      <td>0.108</td>\n",
       "      <td>0.00578</td>\n",
       "      <td>0.112</td>\n",
       "      <td>0.223</td>\n",
       "      <td>107.374</td>\n",
       "      <td>234373</td>\n",
       "      <td>20427</td>\n",
       "      <td>1</td>\n",
       "    </tr>\n",
       "  </tbody>\n",
       "</table>\n",
       "<p>1 rows × 25 columns</p>\n",
       "</div>"
      ],
      "text/plain": [
       "                     track_id track_name track_artist  track_popularity  \\\n",
       "23851  6Na5uKk5SsqZimk0hAWo8y      Signs        Drake                70   \n",
       "\n",
       "               track_album_id track_album_name track_album_release_date  \\\n",
       "23851  1JZxCJ86P4GUYkHj03CgDT            Signs               2017-06-23   \n",
       "\n",
       "              playlist_name             playlist_id playlist_genre  ... mode  \\\n",
       "23851  Today's Hits (Clean)  7ENISpOJhocpMJVcGb0qcT            r&b  ...    1   \n",
       "\n",
       "       speechiness  acousticness  instrumentalness  liveness  valence  \\\n",
       "23851        0.054         0.108           0.00578     0.112    0.223   \n",
       "\n",
       "         tempo  duration_ms  name_count  id_count  \n",
       "23851  107.374       234373       20427         1  \n",
       "\n",
       "[1 rows x 25 columns]"
      ]
     },
     "execution_count": 40,
     "metadata": {},
     "output_type": "execute_result"
    }
   ],
   "source": [
    "df_dup_id = df.copy()\n",
    "df_dup_id['name_count'] = df_dup_id.groupby('track_name')['track_name'].transform('count')\n",
    "df_dup_id['name_count'] = df_dup_id.groupby(['name_count'])['name_count'].transform('count')\n",
    "df_dup_id['id_count'] = df_dup_id.groupby(['track_id'])['track_id'].transform('count')\n",
    "df_id_name_error = df_dup_id[df_dup_id['id_count'] != df_dup_id['name_count']]\n",
    "df_id_name_error.sort_values(by=['track_id'])\n",
    "df_id_name_error[df_id_name_error['track_name'] == 'Signs']"
   ]
  },
  {
   "cell_type": "code",
   "execution_count": 29,
   "metadata": {},
   "outputs": [
    {
     "data": {
      "image/png": "[encoded data removed]",
      "text/plain": [
       "<Figure size 800x800 with 1 Axes>"
      ]
     },
     "metadata": {},
     "output_type": "display_data"
    }
   ],
   "source": [
    "import matplotlib.pyplot as plt\n",
    "\n",
    "# Count the occurrences of each genre\n",
    "genre_counts = df['playlist_genre'].value_counts()\n",
    "\n",
    "# Plot the proportions\n",
    "genre_counts.plot(kind='pie', autopct='%1.1f%%', figsize=(8, 8))\n",
    "plt.ylabel('')\n",
    "plt.title('Proportion of Playlist Genres')\n",
    "plt.show()"
   ]
  },
  {
   "cell_type": "code",
   "execution_count": 30,
   "metadata": {},
   "outputs": [
    {
     "data": {
      "image/png": "[encoded data removed]",
      "text/plain": [
       "<Figure size 1200x800 with 1 Axes>"
      ]
     },
     "metadata": {},
     "output_type": "display_data"
    }
   ],
   "source": [
    "# Group by 'playlist_genre' and 'playlist_subgenre' and count the occurrences\n",
    "subgenre_counts = df.groupby(['playlist_genre', 'playlist_subgenre']).size().unstack()\n",
    "\n",
    "# Plot the subgenre counts for each genre\n",
    "subgenre_counts.plot(kind='bar', stacked=True, figsize=(12, 8))\n",
    "plt.xlabel('Playlist Genre')\n",
    "plt.ylabel('Count')\n",
    "plt.title('Count of Playlist Subgenres for Each Genre')\n",
    "plt.legend(title='Playlist Subgenre', bbox_to_anchor=(1.05, 1), loc='upper left')\n",
    "plt.show()"
   ]
  },
  {
   "cell_type": "code",
   "execution_count": 46,
   "metadata": {},
   "outputs": [
    {
     "data": {
      "image/png": "[encoded data removed]",
      "text/plain": [
       "<Figure size 1200x800 with 2 Axes>"
      ]
     },
     "metadata": {},
     "output_type": "display_data"
    }
   ],
   "source": [
    "import seaborn as sns\n",
    "\n",
    "# Extract the year from the track_album_release_date\n",
    "df['release_year'] = pd.to_datetime(df['track_album_release_date'], errors='coerce').dt.year\n",
    "\n",
    "# Create a pivot table with the count of tracks per year and genre\n",
    "pivot_table = df.pivot_table(index='playlist_genre', columns='release_year', aggfunc='size', fill_value=0)\n",
    "\n",
    "# Filter the pivot table to include only the years from 2000 to 2020\n",
    "pivot_table.columns = pivot_table.columns.astype(int)\n",
    "pivot_table = pivot_table.loc[:,2000:2020]\n",
    "\n",
    "# Normalize the pivot table to get proportions\n",
    "pivot_table_normalized = pivot_table.div(pivot_table.sum(axis=0), axis=1)\n",
    "\n",
    "# Plot the heatmap of proportions\n",
    "plt.figure(figsize=(12, 8))\n",
    "sns.heatmap(pivot_table_normalized, cmap='YlGnBu', annot=False, fmt='.2f')\n",
    "plt.xlabel('Release Year')\n",
    "plt.ylabel('Genre')\n",
    "plt.title('Proportion of Tracks per Year and Genre')\n",
    "plt.xticks(rotation=90)\n",
    "plt.show()\n"
   ]
  },
  {
   "cell_type": "code",
   "execution_count": 49,
   "metadata": {},
   "outputs": [
    {
     "data": {
      "text/plain": [
       "'1957-01-01'"
      ]
     },
     "execution_count": 49,
     "metadata": {},
     "output_type": "execute_result"
    }
   ],
   "source": [
    "# Find the maximum year in the dataset\n",
    "max_year = df['track_album_release_date'].min()\n",
    "max_year"
   ]
  },
  {
   "cell_type": "code",
   "execution_count": 34,
   "metadata": {},
   "outputs": [
    {
     "data": {
      "image/png": "[encoded data removed]",
      "text/plain": [
       "<Figure size 1200x600 with 1 Axes>"
      ]
     },
     "metadata": {},
     "output_type": "display_data"
    }
   ],
   "source": [
    "# Convert the 'track_album_release_date' to datetime if not already done\n",
    "df['track_album_release_date'] = pd.to_datetime(df['track_album_release_date'], errors='coerce')\n",
    "\n",
    "# Extract the year from the 'track_album_release_date'\n",
    "df['release_year'] = df['track_album_release_date'].dt.year\n",
    "\n",
    "# Plot the distribution of the number of songs released each year\n",
    "plt.figure(figsize=(12, 6))\n",
    "sns.histplot(df['release_year'].dropna(), bins=range(int(df['release_year'].min()), int(df['release_year'].max()) + 1), kde=False)\n",
    "plt.xlabel('Year')\n",
    "plt.ylabel('Number of Songs')\n",
    "plt.title('Distribution of the Number of Songs Released Each Year')\n",
    "plt.show()"
   ]
  },
  {
   "cell_type": "code",
   "execution_count": 1,
   "metadata": {},
   "outputs": [
    {
     "name": "stdout",
     "output_type": "stream",
     "text": [
      "Collecting plotly\n",
      "  Using cached plotly-6.0.0-py3-none-any.whl.metadata (5.6 kB)\n",
      "Collecting narwhals>=1.15.1 (from plotly)\n",
      "  Downloading narwhals-1.28.0-py3-none-any.whl.metadata (10 kB)\n",
      "Requirement already satisfied: packaging in c:\\users\\alexi\\onedrive\\documents\\0_cours\\2_poly\\2025-hiver\\inf8808\\projet\\datavizh25\\.venv\\lib\\site-packages (from plotly) (24.2)\n",
      "Using cached plotly-6.0.0-py3-none-any.whl (14.8 MB)\n",
      "Downloading narwhals-1.28.0-py3-none-any.whl (308 kB)\n",
      "Installing collected packages: narwhals, plotly\n",
      "Successfully installed narwhals-1.28.0 plotly-6.0.0\n"
     ]
    }
   ],
   "source": [
    "!pip install plotly"
   ]
  },
  {
   "cell_type": "code",
   "execution_count": 11,
   "metadata": {},
   "outputs": [
    {
     "data": {
      "application/vnd.microsoft.datawrangler.viewer.v0+json": {
       "columns": [
        {
         "name": "index",
         "rawType": "int64",
         "type": "integer"
        },
        {
         "name": "track_id",
         "rawType": "object",
         "type": "string"
        },
        {
         "name": "track_name",
         "rawType": "object",
         "type": "string"
        },
        {
         "name": "track_artist",
         "rawType": "object",
         "type": "string"
        },
        {
         "name": "track_popularity",
         "rawType": "int64",
         "type": "integer"
        },
        {
         "name": "track_album_id",
         "rawType": "object",
         "type": "string"
        },
        {
         "name": "track_album_name",
         "rawType": "object",
         "type": "string"
        },
        {
         "name": "track_album_release_date",
         "rawType": "object",
         "type": "string"
        },
        {
         "name": "playlist_name",
         "rawType": "object",
         "type": "string"
        },
        {
         "name": "playlist_id",
         "rawType": "object",
         "type": "string"
        },
        {
         "name": "playlist_genre",
         "rawType": "object",
         "type": "string"
        },
        {
         "name": "playlist_subgenre",
         "rawType": "object",
         "type": "string"
        },
        {
         "name": "danceability",
         "rawType": "float64",
         "type": "float"
        },
        {
         "name": "energy",
         "rawType": "float64",
         "type": "float"
        },
        {
         "name": "key",
         "rawType": "int64",
         "type": "integer"
        },
        {
         "name": "loudness",
         "rawType": "float64",
         "type": "float"
        },
        {
         "name": "mode",
         "rawType": "int64",
         "type": "integer"
        },
        {
         "name": "speechiness",
         "rawType": "float64",
         "type": "float"
        },
        {
         "name": "acousticness",
         "rawType": "float64",
         "type": "float"
        },
        {
         "name": "instrumentalness",
         "rawType": "float64",
         "type": "float"
        },
        {
         "name": "liveness",
         "rawType": "float64",
         "type": "float"
        },
        {
         "name": "valence",
         "rawType": "float64",
         "type": "float"
        },
        {
         "name": "tempo",
         "rawType": "float64",
         "type": "float"
        },
        {
         "name": "duration_ms",
         "rawType": "int64",
         "type": "integer"
        }
       ],
       "conversionMethod": "pd.DataFrame",
       "ref": "4c32be9a-ac76-45d9-9163-90d56bb29319",
       "rows": [
        [
         "0",
         "6f807x0ima9a1j3VPbc7VN",
         "I Don't Care (with Justin Bieber) - Loud Luxury Remix",
         "Ed Sheeran",
         "66",
         "2oCs0DGTsRO98Gh5ZSl2Cx",
         "I Don't Care (with Justin Bieber) [Loud Luxury Remix]",
         "2019-06-14",
         "Pop Remix",
         "37i9dQZF1DXcZDD7cfEKhW",
         "pop",
         "dance pop",
         "0.748",
         "0.916",
         "6",
         "-2.634",
         "1",
         "0.0583",
         "0.102",
         "0.0",
         "0.0653",
         "0.518",
         "122.036",
         "194754"
        ],
        [
         "1",
         "0r7CVbZTWZgbTCYdfa2P31",
         "Memories - Dillon Francis Remix",
         "Maroon 5",
         "67",
         "63rPSO264uRjW1X5E6cWv6",
         "Memories (Dillon Francis Remix)",
         "2019-12-13",
         "Pop Remix",
         "37i9dQZF1DXcZDD7cfEKhW",
         "pop",
         "dance pop",
         "0.726",
         "0.815",
         "11",
         "-4.969",
         "1",
         "0.0373",
         "0.0724",
         "0.00421",
         "0.357",
         "0.693",
         "99.972",
         "162600"
        ],
        [
         "2",
         "1z1Hg7Vb0AhHDiEmnDE79l",
         "All the Time - Don Diablo Remix",
         "Zara Larsson",
         "70",
         "1HoSmj2eLcsrR0vE9gThr4",
         "All the Time (Don Diablo Remix)",
         "2019-07-05",
         "Pop Remix",
         "37i9dQZF1DXcZDD7cfEKhW",
         "pop",
         "dance pop",
         "0.675",
         "0.931",
         "1",
         "-3.432",
         "0",
         "0.0742",
         "0.0794",
         "2.33e-05",
         "0.11",
         "0.613",
         "124.008",
         "176616"
        ],
        [
         "3",
         "75FpbthrwQmzHlBJLuGdC7",
         "Call You Mine - Keanu Silva Remix",
         "The Chainsmokers",
         "60",
         "1nqYsOef1yKKuGOVchbsk6",
         "Call You Mine - The Remixes",
         "2019-07-19",
         "Pop Remix",
         "37i9dQZF1DXcZDD7cfEKhW",
         "pop",
         "dance pop",
         "0.718",
         "0.93",
         "7",
         "-3.778",
         "1",
         "0.102",
         "0.0287",
         "9.43e-06",
         "0.204",
         "0.277",
         "121.956",
         "169093"
        ],
        [
         "4",
         "1e8PAfcKUYoKkxPhrHqw4x",
         "Someone You Loved - Future Humans Remix",
         "Lewis Capaldi",
         "69",
         "7m7vv9wlQ4i0LFuJiE2zsQ",
         "Someone You Loved (Future Humans Remix)",
         "2019-03-05",
         "Pop Remix",
         "37i9dQZF1DXcZDD7cfEKhW",
         "pop",
         "dance pop",
         "0.65",
         "0.833",
         "1",
         "-4.672",
         "1",
         "0.0359",
         "0.0803",
         "0.0",
         "0.0833",
         "0.725",
         "123.976",
         "189052"
        ],
        [
         "5",
         "7fvUMiyapMsRRxr07cU8Ef",
         "Beautiful People (feat. Khalid) - Jack Wins Remix",
         "Ed Sheeran",
         "67",
         "2yiy9cd2QktrNvWC2EUi0k",
         "Beautiful People (feat. Khalid) [Jack Wins Remix]",
         "2019-07-11",
         "Pop Remix",
         "37i9dQZF1DXcZDD7cfEKhW",
         "pop",
         "dance pop",
         "0.675",
         "0.919",
         "8",
         "-5.385",
         "1",
         "0.127",
         "0.0799",
         "0.0",
         "0.143",
         "0.585",
         "124.982",
         "163049"
        ],
        [
         "6",
         "2OAylPUDDfwRGfe0lYqlCQ",
         "Never Really Over - R3HAB Remix",
         "Katy Perry",
         "62",
         "7INHYSeusaFlyrHSNxm8qH",
         "Never Really Over (R3HAB Remix)",
         "2019-07-26",
         "Pop Remix",
         "37i9dQZF1DXcZDD7cfEKhW",
         "pop",
         "dance pop",
         "0.449",
         "0.856",
         "5",
         "-4.788",
         "0",
         "0.0623",
         "0.187",
         "0.0",
         "0.176",
         "0.152",
         "112.648",
         "187675"
        ],
        [
         "7",
         "6b1RNvAcJjQH73eZO4BLAB",
         "Post Malone (feat. RANI) - GATTÜSO Remix",
         "Sam Feldt",
         "69",
         "6703SRPsLkS4bPtMFFJes1",
         "Post Malone (feat. RANI) [GATTÜSO Remix]",
         "2019-08-29",
         "Pop Remix",
         "37i9dQZF1DXcZDD7cfEKhW",
         "pop",
         "dance pop",
         "0.542",
         "0.903",
         "4",
         "-2.419",
         "0",
         "0.0434",
         "0.0335",
         "4.83e-06",
         "0.111",
         "0.367",
         "127.936",
         "207619"
        ],
        [
         "8",
         "7bF6tCO3gFb8INrEDcjNT5",
         "Tough Love - Tiësto Remix / Radio Edit",
         "Avicii",
         "68",
         "7CvAfGvq4RlIwEbT9o8Iav",
         "Tough Love (Tiësto Remix)",
         "2019-06-14",
         "Pop Remix",
         "37i9dQZF1DXcZDD7cfEKhW",
         "pop",
         "dance pop",
         "0.594",
         "0.935",
         "8",
         "-3.562",
         "1",
         "0.0565",
         "0.0249",
         "3.97e-06",
         "0.637",
         "0.366",
         "127.015",
         "193187"
        ],
        [
         "9",
         "1IXGILkPm0tOCNeq00kCPa",
         "If I Can't Have You - Gryffin Remix",
         "Shawn Mendes",
         "67",
         "4QxzbfSsVryEQwvPFEV5Iu",
         "If I Can't Have You (Gryffin Remix)",
         "2019-06-20",
         "Pop Remix",
         "37i9dQZF1DXcZDD7cfEKhW",
         "pop",
         "dance pop",
         "0.642",
         "0.818",
         "2",
         "-4.552",
         "1",
         "0.032",
         "0.0567",
         "0.0",
         "0.0919",
         "0.59",
         "124.957",
         "253040"
        ],
        [
         "10",
         "3eFJI470ALf1EYjywPRsJy",
         "Cross Me (feat. Chance the Rapper & PnB Rock) - M-22 Remix",
         "Ed Sheeran",
         "58",
         "49bXZtlI5kQSqQMSCnSaWO",
         "Cross Me (feat. Chance the Rapper & PnB Rock) [M-22 Remix]",
         "2019-06-21",
         "Pop Remix",
         "37i9dQZF1DXcZDD7cfEKhW",
         "pop",
         "dance pop",
         "0.679",
         "0.923",
         "6",
         "-6.5",
         "1",
         "0.181",
         "0.146",
         "4.92e-06",
         "0.124",
         "0.752",
         "121.984",
         "207894"
        ],
        [
         "11",
         "3iJeF2izF1QcpCgUc97BLl",
         "Hate Me - R3HAB Remix",
         "Ellie Goulding",
         "67",
         "6e6RVFWdZaoTiLAZOCMnps",
         "Hate Me (R3HAB Remix)",
         "2019-08-16",
         "Pop Remix",
         "37i9dQZF1DXcZDD7cfEKhW",
         "pop",
         "dance pop",
         "0.437",
         "0.774",
         "8",
         "-4.918",
         "1",
         "0.0554",
         "0.148",
         "0.0",
         "0.133",
         "0.329",
         "123.125",
         "203733"
        ],
        [
         "12",
         "6e0CvGZf7CouOpYF8toXHC",
         "Body On My",
         "Loud Luxury",
         "67",
         "2R66I0nzp3NnuUlzIGWQ5P",
         "Body On My",
         "2019-03-29",
         "Pop Remix",
         "37i9dQZF1DXcZDD7cfEKhW",
         "pop",
         "dance pop",
         "0.744",
         "0.726",
         "1",
         "-4.675",
         "1",
         "0.0463",
         "0.0399",
         "0.0",
         "0.374",
         "0.687",
         "121.985",
         "192507"
        ],
        [
         "13",
         "3eLdNmnRWr9gIyBcqTSSti",
         "SOS - Laidback Luke Tribute Remix / Radio Edit",
         "Avicii",
         "68",
         "7Al4TIo0c5twNLfdOh1y1u",
         "SOS (Laidback Luke Tribute Remix)",
         "2019-05-17",
         "Pop Remix",
         "37i9dQZF1DXcZDD7cfEKhW",
         "pop",
         "dance pop",
         "0.572",
         "0.915",
         "5",
         "-4.451",
         "0",
         "0.0625",
         "0.0111",
         "0.0",
         "0.339",
         "0.678",
         "123.919",
         "164516"
        ],
        [
         "14",
         "55nMnifaQWKe3f9cbwOXwx",
         "Summer Days (feat. Macklemore & Patrick Stump of Fall Out Boy) - Tiësto Remix",
         "Martin Garrix",
         "63",
         "2vx3BtBMn8Ed3ygEg1OT2t",
         "Summer Days (feat. Macklemore & Patrick Stump of Fall Out Boy) [Remixes]",
         "2019-07-12",
         "Pop Remix",
         "37i9dQZF1DXcZDD7cfEKhW",
         "pop",
         "dance pop",
         "0.69",
         "0.78",
         "5",
         "-4.446",
         "0",
         "0.0594",
         "0.00733",
         "0.00183",
         "0.0729",
         "0.238",
         "126.07",
         "255238"
        ],
        [
         "15",
         "1EJgymgJHcjSOGSHcYaxvW",
         "South of the Border (feat. Camila Cabello & Cardi B) - Andy Jarvis Remix",
         "Ed Sheeran",
         "66",
         "1imXAvLuowvPYIsFMYUPY0",
         "South of the Border (feat. Camila Cabello & Cardi B) [Andy Jarvis Remix]",
         "2019-12-11",
         "Pop Remix",
         "37i9dQZF1DXcZDD7cfEKhW",
         "pop",
         "dance pop",
         "0.805",
         "0.835",
         "0",
         "-4.603",
         "1",
         "0.0896",
         "0.13",
         "5.03e-06",
         "0.365",
         "0.722",
         "125.028",
         "188230"
        ],
        [
         "16",
         "5WaXMQMlQpq8pwIdaFP43L",
         "All My Friends - Eden Prince Remix",
         "AJ Mitchell",
         "60",
         "4lXBBbiEgwTzcfAkqdXJV1",
         "All My Friends (Eden Prince Remix)",
         "2019-05-03",
         "Pop Remix",
         "37i9dQZF1DXcZDD7cfEKhW",
         "pop",
         "dance pop",
         "0.694",
         "0.901",
         "1",
         "-4.322",
         "0",
         "0.0948",
         "0.0702",
         "0.0",
         "0.427",
         "0.368",
         "118.051",
         "173548"
        ],
        [
         "17",
         "3TjLsDgL0bTbSQIF6M5Ki8",
         "Say My Name (feat. Bebe Rexha & J Balvin) - Lucas & Steve Remix",
         "David Guetta",
         "65",
         "19z3vpbBT09lZ54neDfuFL",
         "Say My Name (feat. Bebe Rexha & J Balvin) [Lucas & Steve Remix]",
         "2018-12-28",
         "Pop Remix",
         "37i9dQZF1DXcZDD7cfEKhW",
         "pop",
         "dance pop",
         "0.678",
         "0.747",
         "10",
         "-5.289",
         "0",
         "0.165",
         "0.0395",
         "0.0",
         "0.174",
         "0.516",
         "120.002",
         "189375"
        ],
        [
         "18",
         "0GfS3y8Jd7SHWd9R51s7Fo",
         "Dancing With A Stranger (With Normani) - Cheat Codes Remix",
         "Sam Smith",
         "69",
         "2LDzwN4iZ4qbSA32E9CG4Q",
         "Dancing With A Stranger (With Normani) [Cheat Codes Remix]",
         "2019-03-08",
         "Pop Remix",
         "37i9dQZF1DXcZDD7cfEKhW",
         "pop",
         "dance pop",
         "0.746",
         "0.557",
         "1",
         "-6.722",
         "1",
         "0.0542",
         "0.103",
         "0.0036",
         "0.138",
         "0.324",
         "111.961",
         "159404"
        ],
        [
         "19",
         "2v3DuCVBbopteJqdM7aKQK",
         "Let It Be Me - Sondr Remix",
         "Steve Aoki",
         "35",
         "097kyycr5ZuLS2cPwwUHwt",
         "Let It Be Me (Remixes)",
         "2019-10-18",
         "Pop Remix",
         "37i9dQZF1DXcZDD7cfEKhW",
         "pop",
         "dance pop",
         "0.467",
         "0.821",
         "7",
         "-5.466",
         "1",
         "0.0934",
         "0.00791",
         "0.000441",
         "0.131",
         "0.232",
         "122.676",
         "185366"
        ],
        [
         "20",
         "4QAUGy6k7c3IOAhgWz52r7",
         "Heaven - David Guetta & MORTEN Remix",
         "Avicii",
         "70",
         "37bCTD5iLWMpDcBanNkkXB",
         "Heaven (David Guetta & MORTEN Remix)",
         "2019-08-23",
         "Pop Remix",
         "37i9dQZF1DXcZDD7cfEKhW",
         "pop",
         "dance pop",
         "0.572",
         "0.934",
         "6",
         "-5.053",
         "0",
         "0.0446",
         "0.00292",
         "0.0198",
         "0.105",
         "0.204",
         "125.948",
         "215238"
        ],
        [
         "21",
         "3Ciaf6WgvG95TGRGxQ1yO8",
         "All Around The World (La La La) - Marnik Remix",
         "R3HAB",
         "64",
         "5r998zJ0MNYb2TTxyQmjxT",
         "All Around The World (La La La) [Marnik Remix]",
         "2019-08-23",
         "Pop Remix",
         "37i9dQZF1DXcZDD7cfEKhW",
         "pop",
         "dance pop",
         "0.708",
         "0.913",
         "9",
         "-4.329",
         "0",
         "0.0348",
         "0.089",
         "0.081",
         "0.113",
         "0.707",
         "135.016",
         "170667"
        ],
        [
         "22",
         "1mC2UjWt25Oixtqu7C6suL",
         "Don't Leave Me Alone (feat. Anne-Marie) - EDX's Indian Summer Remix",
         "David Guetta",
         "62",
         "1WhPuMFm5VaTJqe9rl3C5Q",
         "Don't Leave Me Alone (feat. Anne-Marie) [EDX's Indian Summer Remix]",
         "2019-05-08",
         "Pop Remix",
         "37i9dQZF1DXcZDD7cfEKhW",
         "pop",
         "dance pop",
         "0.684",
         "0.818",
         "4",
         "-4.477",
         "0",
         "0.128",
         "0.0469",
         "3.39e-06",
         "0.119",
         "0.336",
         "123.938",
         "210968"
        ],
        [
         "23",
         "2wenGTypSYHXl1sN1pNC7X",
         "Slow Dance (feat. Ava Max) - Sam Feldt Remix",
         "AJ Mitchell",
         "70",
         "6Ol6C42O7AWnTkj8pHMHWv",
         "Slow Dance (feat. Ava Max) [Sam Feldt Remix]",
         "2019-10-25",
         "Pop Remix",
         "37i9dQZF1DXcZDD7cfEKhW",
         "pop",
         "dance pop",
         "0.732",
         "0.85",
         "1",
         "-5.999",
         "1",
         "0.0444",
         "0.114",
         "2.02e-06",
         "0.0388",
         "0.372",
         "124.024",
         "193548"
        ],
        [
         "24",
         "4sqABRRGU7CzcHXCyxUzFw",
         "Do You Mean (feat. Ty Dolla $ign & bülow) - Myon Remix",
         "The Chainsmokers",
         "58",
         "5vf16sRhXB2f3sS5kteU2T",
         "Do You Mean - The Remixes (feat. Ty Dolla $ign & bülow)",
         "2019-05-24",
         "Pop Remix",
         "37i9dQZF1DXcZDD7cfEKhW",
         "pop",
         "dance pop",
         "0.62",
         "0.889",
         "11",
         "-3.785",
         "1",
         "0.0352",
         "0.0163",
         "1.86e-05",
         "0.395",
         "0.422",
         "110.018",
         "205093"
        ],
        [
         "25",
         "5dy3WUywjZcalTno1io8TQ",
         "Hold Me While You Wait - Steve Void Remix",
         "Lewis Capaldi",
         "63",
         "1LTVUVJQ9wNArrbm02ZOVL",
         "Hold Me While You Wait (Steve Void Remix)",
         "2019-06-21",
         "Pop Remix",
         "37i9dQZF1DXcZDD7cfEKhW",
         "pop",
         "dance pop",
         "0.675",
         "0.76",
         "11",
         "-7.037",
         "1",
         "0.0434",
         "0.104",
         "0.0",
         "0.33",
         "0.468",
         "124.933",
         "172800"
        ],
        [
         "26",
         "2M9GeaCQXrV12J0wzBxIwi",
         "One Thing Right - Firebeatz Remix",
         "Marshmello",
         "66",
         "13pvchQvJxxpvvtsasA4NG",
         "One Thing Right (Remixes)",
         "2019-08-09",
         "Pop Remix",
         "37i9dQZF1DXcZDD7cfEKhW",
         "pop",
         "dance pop",
         "0.682",
         "0.851",
         "1",
         "-7.117",
         "0",
         "0.0363",
         "0.0146",
         "0.000834",
         "0.0289",
         "0.348",
         "126.0",
         "192381"
        ],
        [
         "27",
         "1zzOMDmkRZy0g9f4JTAZKn",
         "Close To Me (with Diplo) (feat. Swae Lee) - CID Remix",
         "Ellie Goulding",
         "8",
         "5bMicFMWsZlRZNTDq9h3oA",
         "Close To Me (Remixes)",
         "2019-02-01",
         "Pop Remix",
         "37i9dQZF1DXcZDD7cfEKhW",
         "pop",
         "dance pop",
         "0.663",
         "0.905",
         "1",
         "-3.781",
         "0",
         "0.0511",
         "0.0325",
         "0.0",
         "0.333",
         "0.397",
         "125.996",
         "175000"
        ],
        [
         "28",
         "4OFFY6L5ywYM1TwhXX69wQ",
         "So Am I - Toby Green Remix",
         "Ava Max",
         "62",
         "4pl2838fY2YPaqiT2yWuMo",
         "So Am I (Toby Green Remix)",
         "2019-05-23",
         "Pop Remix",
         "37i9dQZF1DXcZDD7cfEKhW",
         "pop",
         "dance pop",
         "0.625",
         "0.938",
         "6",
         "-3.983",
         "1",
         "0.0517",
         "0.00432",
         "0.00026",
         "0.0923",
         "0.371",
         "127.997",
         "166875"
        ],
        [
         "29",
         "1hr5Y2i4NlE3LPvQZ9Q5Ao",
         "When You Leave - Breathe Carolina Remix",
         "Nikki Vianna",
         "30",
         "6MhbDWEsAP9Xsgoj0TuEOc",
         "When You Leave (Breathe Carolina Remix)",
         "2019-04-19",
         "Pop Remix",
         "37i9dQZF1DXcZDD7cfEKhW",
         "pop",
         "dance pop",
         "0.679",
         "0.909",
         "1",
         "-2.929",
         "1",
         "0.105",
         "0.0334",
         "0.0",
         "0.269",
         "0.819",
         "119.885",
         "155080"
        ],
        [
         "30",
         "1aT7vltGhkjyMI3F3aO3A4",
         "Mother - Fedde Le Grand Remix",
         "Charlie Puth",
         "56",
         "2Ryw2kkGP0VecGM9b4kjgo",
         "Mother (Fedde Le Grand Remix)",
         "2019-11-01",
         "Pop Remix",
         "37i9dQZF1DXcZDD7cfEKhW",
         "pop",
         "dance pop",
         "0.641",
         "0.869",
         "11",
         "-4.754",
         "1",
         "0.0423",
         "0.0319",
         "0.00131",
         "0.403",
         "0.358",
         "128.091",
         "178125"
        ],
        [
         "31",
         "4YaU1EjXIkdRdkOI4cCZys",
         "Signs - Eden Prince Remix",
         "Starley",
         "56",
         "249wM0bMES3O4nFuwARq9i",
         "Signs (Eden Prince Remix)",
         "2018-11-30",
         "Pop Remix",
         "37i9dQZF1DXcZDD7cfEKhW",
         "pop",
         "dance pop",
         "0.702",
         "0.814",
         "0",
         "-7.51",
         "0",
         "0.0841",
         "0.107",
         "3.03e-05",
         "0.374",
         "0.503",
         "121.993",
         "172000"
        ],
        [
         "32",
         "0Fc9QSMX6fgEBgDjUax7t7",
         "Ruin My Life - Steve James Remix",
         "Zara Larsson",
         "58",
         "6rWRg6yLGcLdG0IRaCB9LN",
         "Ruin My Life (Remixes)",
         "2018-11-23",
         "Pop Remix",
         "37i9dQZF1DXcZDD7cfEKhW",
         "pop",
         "dance pop",
         "0.723",
         "0.837",
         "11",
         "-6.487",
         "1",
         "0.0389",
         "0.0103",
         "0.000477",
         "0.0834",
         "0.643",
         "123.952",
         "177097"
        ],
        [
         "33",
         "7AasLZ4TYgh7dbJXZxcZVE",
         "Torn - KREAM Remix",
         "Ava Max",
         "60",
         "6gKLNSKPll9DAG5xiygMxD",
         "Torn (KREAM Remix)",
         "2019-09-05",
         "Pop Remix",
         "37i9dQZF1DXcZDD7cfEKhW",
         "pop",
         "dance pop",
         "0.742",
         "0.864",
         "0",
         "-5.06",
         "1",
         "0.0976",
         "0.00141",
         "0.00467",
         "0.241",
         "0.727",
         "125.032",
         "169935"
        ],
        [
         "34",
         "7p4jpmyBnOpqQ3rSGJzZ7w",
         "Quite Miss Home - Steve Void Remix",
         "James Arthur",
         "60",
         "4H87kr1cjR2CSUkTFopYEK",
         "Quite Miss Home (Steve Void Remix)",
         "2019-11-22",
         "Pop Remix",
         "37i9dQZF1DXcZDD7cfEKhW",
         "pop",
         "dance pop",
         "0.716",
         "0.815",
         "10",
         "-4.121",
         "1",
         "0.0533",
         "0.108",
         "0.0",
         "0.163",
         "0.351",
         "124.975",
         "220413"
        ],
        [
         "35",
         "4sLtguRBis05qfsBgJ1IdN",
         "Love Me Less (feat. Quinn XCII) - Party Pupils Remix",
         "MAX",
         "55",
         "3E3l9Ae226bVoSwoPNuwWv",
         "Love Me Less (Remixes)",
         "2019-06-21",
         "Pop Remix",
         "37i9dQZF1DXcZDD7cfEKhW",
         "pop",
         "dance pop",
         "0.748",
         "0.831",
         "1",
         "-5.029",
         "1",
         "0.115",
         "0.0823",
         "7.36e-05",
         "0.0757",
         "0.894",
         "128.024",
         "185273"
        ],
        [
         "36",
         "508lUjbGcPrL0CfvHC7UvI",
         "Happier - Matt Medved Remix",
         "Marshmello",
         "59",
         "44iw4l4Syoi5HZgCQzNSKJ",
         "Happier (Remixes Pt. 2)",
         "2018-11-30",
         "Pop Remix",
         "37i9dQZF1DXcZDD7cfEKhW",
         "pop",
         "dance pop",
         "0.816",
         "0.833",
         "5",
         "-5.972",
         "1",
         "0.0511",
         "0.126",
         "9.09e-06",
         "0.0625",
         "0.793",
         "122.032",
         "170164"
        ],
        [
         "37",
         "7FDaS1k08rwMoAThmzUkOZ",
         "Side Effects - Fedde Le Grand Remix",
         "The Chainsmokers",
         "63",
         "3Yb3f9PL7aBpjuJPyiV0ot",
         "Side Effects - Remixes",
         "2018-07-25",
         "Pop Remix",
         "37i9dQZF1DXcZDD7cfEKhW",
         "pop",
         "dance pop",
         "0.633",
         "0.854",
         "0",
         "-4.046",
         "0",
         "0.0432",
         "0.0382",
         "2.83e-05",
         "0.434",
         "0.659",
         "126.026",
         "172360"
        ],
        [
         "38",
         "6m8SIT10j41SPpPFOknTmP",
         "Good Things Fall Apart (with Jon Bellion) [Tiësto's Big Room Remix]",
         "ILLENIUM",
         "67",
         "1r4KIEhxQJ7o3b5Fbv2sRe",
         "Good Things Fall Apart (with Jon Bellion) [Tiësto's Big Room Remix]",
         "2019-07-12",
         "Pop Remix",
         "37i9dQZF1DXcZDD7cfEKhW",
         "pop",
         "dance pop",
         "0.563",
         "0.81",
         "2",
         "-2.921",
         "1",
         "0.0522",
         "0.00522",
         "0.0",
         "0.0846",
         "0.495",
         "129.975",
         "247385"
        ],
        [
         "39",
         "5Vwgf4MVO0vLv8fbxaGGiW",
         "Paradise - Bazzi vs. Black Caviar Remix",
         "Bazzi vs.",
         "55",
         "0TLVzJLOGaY5j7UdKskpMx",
         "Paradise (Bazzi vs. Black Caviar Remix)",
         "2019-06-27",
         "Pop Remix",
         "37i9dQZF1DXcZDD7cfEKhW",
         "pop",
         "dance pop",
         "0.728",
         "0.815",
         "11",
         "-2.878",
         "0",
         "0.046",
         "0.00223",
         "0.000317",
         "0.101",
         "0.681",
         "124.019",
         "218015"
        ],
        [
         "40",
         "5scxjvcdozadBoRRN0UMaM",
         "White Mercedes - EDX's Miami Sunset Remix",
         "Charli XCX",
         "56",
         "37vNU8L52IJZuO7e9hqBd9",
         "White Mercedes (EDX's Miami Sunset Remix)",
         "2019-10-25",
         "Pop Remix",
         "37i9dQZF1DXcZDD7cfEKhW",
         "pop",
         "dance pop",
         "0.846",
         "0.773",
         "5",
         "-3.503",
         "1",
         "0.0473",
         "0.0141",
         "2.23e-05",
         "0.204",
         "0.586",
         "124.008",
         "200444"
        ],
        [
         "41",
         "6oJ6le65B3SEqPwMRNXWjY",
         "Higher Love",
         "Kygo",
         "87",
         "4wquJImu8RtyEuDtIAsfcE",
         "Higher Love",
         "2019-06-28",
         "Pop Remix",
         "37i9dQZF1DXcZDD7cfEKhW",
         "pop",
         "dance pop",
         "0.693",
         "0.678",
         "8",
         "-7.159",
         "1",
         "0.0324",
         "0.0154",
         "6.05e-06",
         "0.101",
         "0.404",
         "103.952",
         "228267"
        ],
        [
         "42",
         "2tilX6FUl0IwFgiOYjuc6V",
         "Unlove You",
         "Armin van Buuren",
         "62",
         "6k63cIUizpLu0h5hhIg8LG",
         "Unlove You",
         "2019-10-18",
         "Pop Remix",
         "37i9dQZF1DXcZDD7cfEKhW",
         "pop",
         "dance pop",
         "0.678",
         "0.928",
         "3",
         "-3.66",
         "0",
         "0.0597",
         "0.0303",
         "3.33e-05",
         "0.143",
         "0.663",
         "116.892",
         "150160"
        ],
        [
         "43",
         "3yNZ5r3LKfdmjoS3gkhUCT",
         "bad guy (with Justin Bieber)",
         "Billie Eilish",
         "83",
         "6lMlX68jJrx67hiCqdiDvW",
         "bad guy (with Justin Bieber)",
         "2019-07-11",
         "Pop Remix",
         "37i9dQZF1DXcZDD7cfEKhW",
         "pop",
         "dance pop",
         "0.67",
         "0.453",
         "0",
         "-11.265",
         "1",
         "0.295",
         "0.252",
         "0.33",
         "0.117",
         "0.68",
         "135.055",
         "194840"
        ],
        [
         "44",
         "478QYNLw6dhTTx4oEkhBeq",
         "Freaking Me Out - Keanu Silva Remix",
         "Ava Max",
         "55",
         "6sOIjQyLBuivHFkEBttj5J",
         "Freaking Me Out (Keanu Silva Remix)",
         "2019-11-01",
         "Pop Remix",
         "37i9dQZF1DXcZDD7cfEKhW",
         "pop",
         "dance pop",
         "0.755",
         "0.931",
         "1",
         "-4.104",
         "0",
         "0.0606",
         "0.132",
         "0.0271",
         "0.0854",
         "0.288",
         "122.041",
         "177466"
        ],
        [
         "45",
         "3C4fzUgIP3ahkhOBdP38GM",
         "Heaven Can Wait - The Aston Shuffle Remix",
         "Sia",
         "61",
         "6fUjIqkNJY56xS62ild7D1",
         "Heaven Can Wait (The Aston Shuffle Remix)",
         "2019-05-24",
         "Pop Remix",
         "37i9dQZF1DXcZDD7cfEKhW",
         "pop",
         "dance pop",
         "0.622",
         "0.859",
         "5",
         "-7.626",
         "1",
         "0.0636",
         "0.000609",
         "0.746",
         "0.0909",
         "0.442",
         "121.968",
         "218373"
        ],
        [
         "46",
         "2k4c9ZAlIYHyXiJ4i20FO7",
         "When It Comes To You - Benny Benassi & BB Team Remix",
         "Sean Paul",
         "56",
         "13u5uffEUZZBoaI5kn5Zqd",
         "When It Comes To You (Remixes)",
         "2019-10-25",
         "Pop Remix",
         "37i9dQZF1DXcZDD7cfEKhW",
         "pop",
         "dance pop",
         "0.789",
         "0.893",
         "10",
         "-4.364",
         "0",
         "0.168",
         "0.0538",
         "0.0",
         "0.221",
         "0.41",
         "121.956",
         "144073"
        ],
        [
         "47",
         "79zGYOcAe2VmJsyQiJX31a",
         "Gone - The Wild Remix",
         "Charli XCX",
         "57",
         "2QVWSdvejmRHBaK1mroxPL",
         "Gone (The Wild Remix)",
         "2019-08-09",
         "Pop Remix",
         "37i9dQZF1DXcZDD7cfEKhW",
         "pop",
         "dance pop",
         "0.64",
         "0.838",
         "6",
         "-4.203",
         "1",
         "0.0416",
         "0.0588",
         "1.99e-05",
         "0.0424",
         "0.587",
         "124.081",
         "193861"
        ],
        [
         "48",
         "6B2NRQjtSOtqi67d72r5cx",
         "American Boy - Brooks Remix",
         "Estelle",
         "56",
         "2oUf4rrrptVC50h75WzjmI",
         "American Boy (Brooks Remix)",
         "2019-06-14",
         "Pop Remix",
         "37i9dQZF1DXcZDD7cfEKhW",
         "pop",
         "dance pop",
         "0.609",
         "0.764",
         "5",
         "-4.564",
         "0",
         "0.111",
         "0.0994",
         "0.0",
         "0.197",
         "0.531",
         "128.082",
         "200625"
        ],
        [
         "49",
         "08rBIlTMXlF5uEHobZglxv",
         "Million Pieces - M-22 Remix",
         "Bastille",
         "53",
         "4lzn3ikjb2HPZM6U6Y1IRL",
         "Million Pieces (M-22 Remix)",
         "2019-09-27",
         "Pop Remix",
         "37i9dQZF1DXcZDD7cfEKhW",
         "pop",
         "dance pop",
         "0.64",
         "0.992",
         "4",
         "-3.318",
         "0",
         "0.0585",
         "0.0832",
         "0.0083",
         "0.109",
         "0.479",
         "123.951",
         "166237"
        ]
       ],
       "shape": {
        "columns": 23,
        "rows": 28352
       }
      },
      "text/html": [
       "<div>\n",
       "<style scoped>\n",
       "    .dataframe tbody tr th:only-of-type {\n",
       "        vertical-align: middle;\n",
       "    }\n",
       "\n",
       "    .dataframe tbody tr th {\n",
       "        vertical-align: top;\n",
       "    }\n",
       "\n",
       "    .dataframe thead th {\n",
       "        text-align: right;\n",
       "    }\n",
       "</style>\n",
       "<table border=\"1\" class=\"dataframe\">\n",
       "  <thead>\n",
       "    <tr style=\"text-align: right;\">\n",
       "      <th></th>\n",
       "      <th>track_id</th>\n",
       "      <th>track_name</th>\n",
       "      <th>track_artist</th>\n",
       "      <th>track_popularity</th>\n",
       "      <th>track_album_id</th>\n",
       "      <th>track_album_name</th>\n",
       "      <th>track_album_release_date</th>\n",
       "      <th>playlist_name</th>\n",
       "      <th>playlist_id</th>\n",
       "      <th>playlist_genre</th>\n",
       "      <th>...</th>\n",
       "      <th>key</th>\n",
       "      <th>loudness</th>\n",
       "      <th>mode</th>\n",
       "      <th>speechiness</th>\n",
       "      <th>acousticness</th>\n",
       "      <th>instrumentalness</th>\n",
       "      <th>liveness</th>\n",
       "      <th>valence</th>\n",
       "      <th>tempo</th>\n",
       "      <th>duration_ms</th>\n",
       "    </tr>\n",
       "  </thead>\n",
       "  <tbody>\n",
       "    <tr>\n",
       "      <th>0</th>\n",
       "      <td>6f807x0ima9a1j3VPbc7VN</td>\n",
       "      <td>I Don't Care (with Justin Bieber) - Loud Luxur...</td>\n",
       "      <td>Ed Sheeran</td>\n",
       "      <td>66</td>\n",
       "      <td>2oCs0DGTsRO98Gh5ZSl2Cx</td>\n",
       "      <td>I Don't Care (with Justin Bieber) [Loud Luxury...</td>\n",
       "      <td>2019-06-14</td>\n",
       "      <td>Pop Remix</td>\n",
       "      <td>37i9dQZF1DXcZDD7cfEKhW</td>\n",
       "      <td>pop</td>\n",
       "      <td>...</td>\n",
       "      <td>6</td>\n",
       "      <td>-2.634</td>\n",
       "      <td>1</td>\n",
       "      <td>0.0583</td>\n",
       "      <td>0.102000</td>\n",
       "      <td>0.000000</td>\n",
       "      <td>0.0653</td>\n",
       "      <td>0.5180</td>\n",
       "      <td>122.036</td>\n",
       "      <td>194754</td>\n",
       "    </tr>\n",
       "    <tr>\n",
       "      <th>1</th>\n",
       "      <td>0r7CVbZTWZgbTCYdfa2P31</td>\n",
       "      <td>Memories - Dillon Francis Remix</td>\n",
       "      <td>Maroon 5</td>\n",
       "      <td>67</td>\n",
       "      <td>63rPSO264uRjW1X5E6cWv6</td>\n",
       "      <td>Memories (Dillon Francis Remix)</td>\n",
       "      <td>2019-12-13</td>\n",
       "      <td>Pop Remix</td>\n",
       "      <td>37i9dQZF1DXcZDD7cfEKhW</td>\n",
       "      <td>pop</td>\n",
       "      <td>...</td>\n",
       "      <td>11</td>\n",
       "      <td>-4.969</td>\n",
       "      <td>1</td>\n",
       "      <td>0.0373</td>\n",
       "      <td>0.072400</td>\n",
       "      <td>0.004210</td>\n",
       "      <td>0.3570</td>\n",
       "      <td>0.6930</td>\n",
       "      <td>99.972</td>\n",
       "      <td>162600</td>\n",
       "    </tr>\n",
       "    <tr>\n",
       "      <th>2</th>\n",
       "      <td>1z1Hg7Vb0AhHDiEmnDE79l</td>\n",
       "      <td>All the Time - Don Diablo Remix</td>\n",
       "      <td>Zara Larsson</td>\n",
       "      <td>70</td>\n",
       "      <td>1HoSmj2eLcsrR0vE9gThr4</td>\n",
       "      <td>All the Time (Don Diablo Remix)</td>\n",
       "      <td>2019-07-05</td>\n",
       "      <td>Pop Remix</td>\n",
       "      <td>37i9dQZF1DXcZDD7cfEKhW</td>\n",
       "      <td>pop</td>\n",
       "      <td>...</td>\n",
       "      <td>1</td>\n",
       "      <td>-3.432</td>\n",
       "      <td>0</td>\n",
       "      <td>0.0742</td>\n",
       "      <td>0.079400</td>\n",
       "      <td>0.000023</td>\n",
       "      <td>0.1100</td>\n",
       "      <td>0.6130</td>\n",
       "      <td>124.008</td>\n",
       "      <td>176616</td>\n",
       "    </tr>\n",
       "    <tr>\n",
       "      <th>3</th>\n",
       "      <td>75FpbthrwQmzHlBJLuGdC7</td>\n",
       "      <td>Call You Mine - Keanu Silva Remix</td>\n",
       "      <td>The Chainsmokers</td>\n",
       "      <td>60</td>\n",
       "      <td>1nqYsOef1yKKuGOVchbsk6</td>\n",
       "      <td>Call You Mine - The Remixes</td>\n",
       "      <td>2019-07-19</td>\n",
       "      <td>Pop Remix</td>\n",
       "      <td>37i9dQZF1DXcZDD7cfEKhW</td>\n",
       "      <td>pop</td>\n",
       "      <td>...</td>\n",
       "      <td>7</td>\n",
       "      <td>-3.778</td>\n",
       "      <td>1</td>\n",
       "      <td>0.1020</td>\n",
       "      <td>0.028700</td>\n",
       "      <td>0.000009</td>\n",
       "      <td>0.2040</td>\n",
       "      <td>0.2770</td>\n",
       "      <td>121.956</td>\n",
       "      <td>169093</td>\n",
       "    </tr>\n",
       "    <tr>\n",
       "      <th>4</th>\n",
       "      <td>1e8PAfcKUYoKkxPhrHqw4x</td>\n",
       "      <td>Someone You Loved - Future Humans Remix</td>\n",
       "      <td>Lewis Capaldi</td>\n",
       "      <td>69</td>\n",
       "      <td>7m7vv9wlQ4i0LFuJiE2zsQ</td>\n",
       "      <td>Someone You Loved (Future Humans Remix)</td>\n",
       "      <td>2019-03-05</td>\n",
       "      <td>Pop Remix</td>\n",
       "      <td>37i9dQZF1DXcZDD7cfEKhW</td>\n",
       "      <td>pop</td>\n",
       "      <td>...</td>\n",
       "      <td>1</td>\n",
       "      <td>-4.672</td>\n",
       "      <td>1</td>\n",
       "      <td>0.0359</td>\n",
       "      <td>0.080300</td>\n",
       "      <td>0.000000</td>\n",
       "      <td>0.0833</td>\n",
       "      <td>0.7250</td>\n",
       "      <td>123.976</td>\n",
       "      <td>189052</td>\n",
       "    </tr>\n",
       "    <tr>\n",
       "      <th>...</th>\n",
       "      <td>...</td>\n",
       "      <td>...</td>\n",
       "      <td>...</td>\n",
       "      <td>...</td>\n",
       "      <td>...</td>\n",
       "      <td>...</td>\n",
       "      <td>...</td>\n",
       "      <td>...</td>\n",
       "      <td>...</td>\n",
       "      <td>...</td>\n",
       "      <td>...</td>\n",
       "      <td>...</td>\n",
       "      <td>...</td>\n",
       "      <td>...</td>\n",
       "      <td>...</td>\n",
       "      <td>...</td>\n",
       "      <td>...</td>\n",
       "      <td>...</td>\n",
       "      <td>...</td>\n",
       "      <td>...</td>\n",
       "      <td>...</td>\n",
       "    </tr>\n",
       "    <tr>\n",
       "      <th>28347</th>\n",
       "      <td>7bxnKAamR3snQ1VGLuVfC1</td>\n",
       "      <td>City Of Lights - Official Radio Edit</td>\n",
       "      <td>Lush &amp; Simon</td>\n",
       "      <td>42</td>\n",
       "      <td>2azRoBBWEEEYhqV6sb7JrT</td>\n",
       "      <td>City Of Lights (Vocal Mix)</td>\n",
       "      <td>2014-04-28</td>\n",
       "      <td>♥ EDM LOVE 2020</td>\n",
       "      <td>6jI1gFr6ANFtT8MmTvA2Ux</td>\n",
       "      <td>edm</td>\n",
       "      <td>...</td>\n",
       "      <td>2</td>\n",
       "      <td>-1.814</td>\n",
       "      <td>1</td>\n",
       "      <td>0.0936</td>\n",
       "      <td>0.076600</td>\n",
       "      <td>0.000000</td>\n",
       "      <td>0.0668</td>\n",
       "      <td>0.2100</td>\n",
       "      <td>128.170</td>\n",
       "      <td>204375</td>\n",
       "    </tr>\n",
       "    <tr>\n",
       "      <th>28348</th>\n",
       "      <td>5Aevni09Em4575077nkWHz</td>\n",
       "      <td>Closer - Sultan &amp; Ned Shepard Remix</td>\n",
       "      <td>Tegan and Sara</td>\n",
       "      <td>20</td>\n",
       "      <td>6kD6KLxj7s8eCE3ABvAyf5</td>\n",
       "      <td>Closer Remixed</td>\n",
       "      <td>2013-03-08</td>\n",
       "      <td>♥ EDM LOVE 2020</td>\n",
       "      <td>6jI1gFr6ANFtT8MmTvA2Ux</td>\n",
       "      <td>edm</td>\n",
       "      <td>...</td>\n",
       "      <td>0</td>\n",
       "      <td>-4.462</td>\n",
       "      <td>1</td>\n",
       "      <td>0.0420</td>\n",
       "      <td>0.001710</td>\n",
       "      <td>0.004270</td>\n",
       "      <td>0.3750</td>\n",
       "      <td>0.4000</td>\n",
       "      <td>128.041</td>\n",
       "      <td>353120</td>\n",
       "    </tr>\n",
       "    <tr>\n",
       "      <th>28349</th>\n",
       "      <td>7ImMqPP3Q1yfUHvsdn7wEo</td>\n",
       "      <td>Sweet Surrender - Radio Edit</td>\n",
       "      <td>Starkillers</td>\n",
       "      <td>14</td>\n",
       "      <td>0ltWNSY9JgxoIZO4VzuCa6</td>\n",
       "      <td>Sweet Surrender (Radio Edit)</td>\n",
       "      <td>2014-04-21</td>\n",
       "      <td>♥ EDM LOVE 2020</td>\n",
       "      <td>6jI1gFr6ANFtT8MmTvA2Ux</td>\n",
       "      <td>edm</td>\n",
       "      <td>...</td>\n",
       "      <td>6</td>\n",
       "      <td>-4.899</td>\n",
       "      <td>0</td>\n",
       "      <td>0.0481</td>\n",
       "      <td>0.108000</td>\n",
       "      <td>0.000001</td>\n",
       "      <td>0.1500</td>\n",
       "      <td>0.4360</td>\n",
       "      <td>127.989</td>\n",
       "      <td>210112</td>\n",
       "    </tr>\n",
       "    <tr>\n",
       "      <th>28350</th>\n",
       "      <td>2m69mhnfQ1Oq6lGtXuYhgX</td>\n",
       "      <td>Only For You - Maor Levi Remix</td>\n",
       "      <td>Mat Zo</td>\n",
       "      <td>15</td>\n",
       "      <td>1fGrOkHnHJcStl14zNx8Jy</td>\n",
       "      <td>Only For You (Remixes)</td>\n",
       "      <td>2014-01-01</td>\n",
       "      <td>♥ EDM LOVE 2020</td>\n",
       "      <td>6jI1gFr6ANFtT8MmTvA2Ux</td>\n",
       "      <td>edm</td>\n",
       "      <td>...</td>\n",
       "      <td>2</td>\n",
       "      <td>-3.361</td>\n",
       "      <td>1</td>\n",
       "      <td>0.1090</td>\n",
       "      <td>0.007920</td>\n",
       "      <td>0.127000</td>\n",
       "      <td>0.3430</td>\n",
       "      <td>0.3080</td>\n",
       "      <td>128.008</td>\n",
       "      <td>367432</td>\n",
       "    </tr>\n",
       "    <tr>\n",
       "      <th>28351</th>\n",
       "      <td>29zWqhca3zt5NsckZqDf6c</td>\n",
       "      <td>Typhoon - Original Mix</td>\n",
       "      <td>Julian Calor</td>\n",
       "      <td>27</td>\n",
       "      <td>0X3mUOm6MhxR7PzxG95rAo</td>\n",
       "      <td>Typhoon/Storm</td>\n",
       "      <td>2014-03-03</td>\n",
       "      <td>♥ EDM LOVE 2020</td>\n",
       "      <td>6jI1gFr6ANFtT8MmTvA2Ux</td>\n",
       "      <td>edm</td>\n",
       "      <td>...</td>\n",
       "      <td>5</td>\n",
       "      <td>-4.571</td>\n",
       "      <td>0</td>\n",
       "      <td>0.0385</td>\n",
       "      <td>0.000133</td>\n",
       "      <td>0.341000</td>\n",
       "      <td>0.7420</td>\n",
       "      <td>0.0894</td>\n",
       "      <td>127.984</td>\n",
       "      <td>337500</td>\n",
       "    </tr>\n",
       "  </tbody>\n",
       "</table>\n",
       "<p>28352 rows × 23 columns</p>\n",
       "</div>"
      ],
      "text/plain": [
       "                     track_id  \\\n",
       "0      6f807x0ima9a1j3VPbc7VN   \n",
       "1      0r7CVbZTWZgbTCYdfa2P31   \n",
       "2      1z1Hg7Vb0AhHDiEmnDE79l   \n",
       "3      75FpbthrwQmzHlBJLuGdC7   \n",
       "4      1e8PAfcKUYoKkxPhrHqw4x   \n",
       "...                       ...   \n",
       "28347  7bxnKAamR3snQ1VGLuVfC1   \n",
       "28348  5Aevni09Em4575077nkWHz   \n",
       "28349  7ImMqPP3Q1yfUHvsdn7wEo   \n",
       "28350  2m69mhnfQ1Oq6lGtXuYhgX   \n",
       "28351  29zWqhca3zt5NsckZqDf6c   \n",
       "\n",
       "                                              track_name      track_artist  \\\n",
       "0      I Don't Care (with Justin Bieber) - Loud Luxur...        Ed Sheeran   \n",
       "1                        Memories - Dillon Francis Remix          Maroon 5   \n",
       "2                        All the Time - Don Diablo Remix      Zara Larsson   \n",
       "3                      Call You Mine - Keanu Silva Remix  The Chainsmokers   \n",
       "4                Someone You Loved - Future Humans Remix     Lewis Capaldi   \n",
       "...                                                  ...               ...   \n",
       "28347               City Of Lights - Official Radio Edit      Lush & Simon   \n",
       "28348                Closer - Sultan & Ned Shepard Remix    Tegan and Sara   \n",
       "28349                       Sweet Surrender - Radio Edit       Starkillers   \n",
       "28350                     Only For You - Maor Levi Remix            Mat Zo   \n",
       "28351                             Typhoon - Original Mix      Julian Calor   \n",
       "\n",
       "       track_popularity          track_album_id  \\\n",
       "0                    66  2oCs0DGTsRO98Gh5ZSl2Cx   \n",
       "1                    67  63rPSO264uRjW1X5E6cWv6   \n",
       "2                    70  1HoSmj2eLcsrR0vE9gThr4   \n",
       "3                    60  1nqYsOef1yKKuGOVchbsk6   \n",
       "4                    69  7m7vv9wlQ4i0LFuJiE2zsQ   \n",
       "...                 ...                     ...   \n",
       "28347                42  2azRoBBWEEEYhqV6sb7JrT   \n",
       "28348                20  6kD6KLxj7s8eCE3ABvAyf5   \n",
       "28349                14  0ltWNSY9JgxoIZO4VzuCa6   \n",
       "28350                15  1fGrOkHnHJcStl14zNx8Jy   \n",
       "28351                27  0X3mUOm6MhxR7PzxG95rAo   \n",
       "\n",
       "                                        track_album_name  \\\n",
       "0      I Don't Care (with Justin Bieber) [Loud Luxury...   \n",
       "1                        Memories (Dillon Francis Remix)   \n",
       "2                        All the Time (Don Diablo Remix)   \n",
       "3                            Call You Mine - The Remixes   \n",
       "4                Someone You Loved (Future Humans Remix)   \n",
       "...                                                  ...   \n",
       "28347                         City Of Lights (Vocal Mix)   \n",
       "28348                                     Closer Remixed   \n",
       "28349                       Sweet Surrender (Radio Edit)   \n",
       "28350                             Only For You (Remixes)   \n",
       "28351                                      Typhoon/Storm   \n",
       "\n",
       "      track_album_release_date    playlist_name             playlist_id  \\\n",
       "0                   2019-06-14        Pop Remix  37i9dQZF1DXcZDD7cfEKhW   \n",
       "1                   2019-12-13        Pop Remix  37i9dQZF1DXcZDD7cfEKhW   \n",
       "2                   2019-07-05        Pop Remix  37i9dQZF1DXcZDD7cfEKhW   \n",
       "3                   2019-07-19        Pop Remix  37i9dQZF1DXcZDD7cfEKhW   \n",
       "4                   2019-03-05        Pop Remix  37i9dQZF1DXcZDD7cfEKhW   \n",
       "...                        ...              ...                     ...   \n",
       "28347               2014-04-28  ♥ EDM LOVE 2020  6jI1gFr6ANFtT8MmTvA2Ux   \n",
       "28348               2013-03-08  ♥ EDM LOVE 2020  6jI1gFr6ANFtT8MmTvA2Ux   \n",
       "28349               2014-04-21  ♥ EDM LOVE 2020  6jI1gFr6ANFtT8MmTvA2Ux   \n",
       "28350               2014-01-01  ♥ EDM LOVE 2020  6jI1gFr6ANFtT8MmTvA2Ux   \n",
       "28351               2014-03-03  ♥ EDM LOVE 2020  6jI1gFr6ANFtT8MmTvA2Ux   \n",
       "\n",
       "      playlist_genre  ... key  loudness  mode  speechiness  acousticness  \\\n",
       "0                pop  ...   6    -2.634     1       0.0583      0.102000   \n",
       "1                pop  ...  11    -4.969     1       0.0373      0.072400   \n",
       "2                pop  ...   1    -3.432     0       0.0742      0.079400   \n",
       "3                pop  ...   7    -3.778     1       0.1020      0.028700   \n",
       "4                pop  ...   1    -4.672     1       0.0359      0.080300   \n",
       "...              ...  ...  ..       ...   ...          ...           ...   \n",
       "28347            edm  ...   2    -1.814     1       0.0936      0.076600   \n",
       "28348            edm  ...   0    -4.462     1       0.0420      0.001710   \n",
       "28349            edm  ...   6    -4.899     0       0.0481      0.108000   \n",
       "28350            edm  ...   2    -3.361     1       0.1090      0.007920   \n",
       "28351            edm  ...   5    -4.571     0       0.0385      0.000133   \n",
       "\n",
       "       instrumentalness  liveness  valence    tempo  duration_ms  \n",
       "0              0.000000    0.0653   0.5180  122.036       194754  \n",
       "1              0.004210    0.3570   0.6930   99.972       162600  \n",
       "2              0.000023    0.1100   0.6130  124.008       176616  \n",
       "3              0.000009    0.2040   0.2770  121.956       169093  \n",
       "4              0.000000    0.0833   0.7250  123.976       189052  \n",
       "...                 ...       ...      ...      ...          ...  \n",
       "28347          0.000000    0.0668   0.2100  128.170       204375  \n",
       "28348          0.004270    0.3750   0.4000  128.041       353120  \n",
       "28349          0.000001    0.1500   0.4360  127.989       210112  \n",
       "28350          0.127000    0.3430   0.3080  128.008       367432  \n",
       "28351          0.341000    0.7420   0.0894  127.984       337500  \n",
       "\n",
       "[28352 rows x 23 columns]"
      ]
     },
     "execution_count": 11,
     "metadata": {},
     "output_type": "execute_result"
    }
   ],
   "source": [
    "import pandas as pd\n",
    "\n",
    "df = pd.read_csv('dataset/spotify_songs_clean.csv')\n",
    "df"
   ]
  },
  {
   "cell_type": "code",
   "execution_count": 2,
   "metadata": {},
   "outputs": [
    {
     "data": {
      "application/vnd.microsoft.datawrangler.viewer.v0+json": {
       "columns": [
        {
         "name": "('playlist_genre', 'release_decade')",
         "rawType": "object",
         "type": "unknown"
        },
        {
         "name": "track_popularity",
         "rawType": "float64",
         "type": "float"
        },
        {
         "name": "danceability",
         "rawType": "float64",
         "type": "float"
        },
        {
         "name": "energy",
         "rawType": "float64",
         "type": "float"
        },
        {
         "name": "key",
         "rawType": "float64",
         "type": "float"
        },
        {
         "name": "loudness",
         "rawType": "float64",
         "type": "float"
        },
        {
         "name": "mode",
         "rawType": "float64",
         "type": "float"
        },
        {
         "name": "speechiness",
         "rawType": "float64",
         "type": "float"
        },
        {
         "name": "acousticness",
         "rawType": "float64",
         "type": "float"
        },
        {
         "name": "instrumentalness",
         "rawType": "float64",
         "type": "float"
        },
        {
         "name": "liveness",
         "rawType": "float64",
         "type": "float"
        },
        {
         "name": "valence",
         "rawType": "float64",
         "type": "float"
        },
        {
         "name": "tempo",
         "rawType": "float64",
         "type": "float"
        },
        {
         "name": "duration_ms",
         "rawType": "float64",
         "type": "float"
        }
       ],
       "conversionMethod": "pd.DataFrame",
       "ref": "acbe7b5f-942f-4a91-907e-17b5eab19e77",
       "rows": [
        [
         "('edm', '1960s')",
         "24.0",
         "0.738",
         "0.5235000000000001",
         "8.0",
         "-12.41475",
         "0.5",
         "0.0543",
         "0.0277725",
         "0.5169005",
         "0.124775",
         "0.8125",
         "125.68825",
         "451863.75"
        ],
        [
         "('edm', '1980s')",
         "38.42857142857143",
         "0.7356428571428572",
         "0.7210714285714286",
         "5.428571428571429",
         "-9.739428571428572",
         "0.42857142857142855",
         "0.07997857142857143",
         "0.068253",
         "0.23951632142857143",
         "0.17843571428571428",
         "0.801142857142857",
         "124.00764285714286",
         "305245.64285714284"
        ],
        [
         "('edm', '2000s')",
         "30.576274757690687",
         "0.6572825537294564",
         "0.8108516645596292",
         "5.351243152128108",
         "-5.4528314369995785",
         "0.5181205225453013",
         "0.08776076696165191",
         "0.07598692695743785",
         "0.2459462572018542",
         "0.21467979351032448",
         "0.396240391908976",
         "126.34870691108301",
         "226401.9203539823"
        ],
        [
         "('edm', '2020s')",
         "34.23893805309734",
         "0.6600796460176991",
         "0.7783008849557522",
         "5.398230088495575",
         "-6.158300884955753",
         "0.4690265486725664",
         "0.09766106194690266",
         "0.1182713389380531",
         "0.18739629451327433",
         "0.2067008849557522",
         "0.3853097345132743",
         "125.7722389380531",
         "193102.5663716814"
        ],
        [
         "('latin', '1960s')",
         "56.0",
         "0.67425",
         "0.70475",
         "5.75",
         "-6.9445",
         "0.75",
         "0.053325",
         "0.46799999999999997",
         "0.00042165000000000003",
         "0.298025",
         "0.8009999999999999",
         "104.286",
         "204559.75"
        ],
        [
         "('latin', '1980s')",
         "38.796954314720814",
         "0.6968071065989847",
         "0.677989847715736",
         "5.634517766497462",
         "-9.604065989847715",
         "0.6091370558375635",
         "0.08534619289340101",
         "0.19505372385786804",
         "0.05000862812182741",
         "0.17595583756345176",
         "0.6611573604060913",
         "118.75629441624366",
         "254845.79187817257"
        ],
        [
         "('latin', '2000s')",
         "41.574329601666236",
         "0.7115492840406145",
         "0.7124914019786514",
         "5.472533194480604",
         "-6.331973704764384",
         "0.5587086696172872",
         "0.101144363447019",
         "0.21278060895600104",
         "0.05344505074199428",
         "0.18208673782869045",
         "0.6045908747721948",
         "118.44550872168706",
         "215821.87789638116"
        ],
        [
         "('latin', '2020s')",
         "41.297872340425535",
         "0.7207765957446809",
         "0.6938755319148936",
         "4.957446808510638",
         "-6.08245744680851",
         "0.574468085106383",
         "0.10621702127659574",
         "0.23507244680851067",
         "0.02518787436170213",
         "0.17380531914893615",
         "0.599568085106383",
         "122.0172340425532",
         "198349.1595744681"
        ],
        [
         "('pop', '1960s')",
         "61.31578947368421",
         "0.5493684210526316",
         "0.7527894736842106",
         "5.2105263157894735",
         "-8.410578947368421",
         "0.7368421052631579",
         "0.0552",
         "0.1456002105263158",
         "0.07148943789473684",
         "0.2720526315789474",
         "0.6566842105263158",
         "126.79126315789475",
         "236091.94736842104"
        ],
        [
         "('pop', '1980s')",
         "43.0253164556962",
         "0.6375780590717299",
         "0.7507679324894514",
         "5.628691983122363",
         "-8.898181434599156",
         "0.6118143459915611",
         "0.046927004219409284",
         "0.12286618746835443",
         "0.11650923721518987",
         "0.17261940928270042",
         "0.6497472573839663",
         "126.05935864978903",
         "256150.41772151898"
        ],
        [
         "('pop', '2000s')",
         "45.977711738484395",
         "0.6379517087667161",
         "0.7009584674166844",
         "5.302271279983018",
         "-6.210940776905115",
         "0.5873487582254299",
         "0.07542167268095946",
         "0.17167925778815538",
         "0.06112266230099766",
         "0.17687501592018678",
         "0.49532674591381876",
         "120.77181808533221",
         "216765.28889832308"
        ],
        [
         "('pop', '2020s')",
         "46.2",
         "0.6408060606060606",
         "0.6256909090909091",
         "5.2727272727272725",
         "-7.264345454545454",
         "0.6787878787878788",
         "0.07946787878787878",
         "0.2582653406666667",
         "0.05147910696969697",
         "0.18469878787878788",
         "0.4679848484848485",
         "118.42208484848484",
         "199560.5393939394"
        ],
        [
         "('r&b', '1940s')",
         "59.0",
         "0.565",
         "0.962",
         "8.0",
         "-2.981",
         "1.0",
         "0.064",
         "0.437",
         "0.0",
         "0.056",
         "0.906",
         "148.808",
         "160227.0"
        ],
        [
         "('r&b', '1960s')",
         "45.58974358974359",
         "0.6183974358974359",
         "0.6060769230769231",
         "5.346153846153846",
         "-10.313833333333333",
         "0.7692307692307693",
         "0.06373846153846154",
         "0.34336394871794873",
         "0.06417417038461538",
         "0.18274743589743592",
         "0.7027628205128205",
         "122.1723076923077",
         "229558.1794871795"
        ],
        [
         "('r&b', '1980s')",
         "32.01702610669694",
         "0.7038830874006811",
         "0.6131358683314415",
         "5.70261066969353",
         "-9.548879682179342",
         "0.5221339387060159",
         "0.07812814982973894",
         "0.17776321668558454",
         "0.024145603723041996",
         "0.17044971623155505",
         "0.6416804767309876",
         "112.51685017026107",
         "277310.8740068104"
        ],
        [
         "('r&b', '2000s')",
         "36.661498708010335",
         "0.659075222509331",
         "0.5821150445018661",
         "5.308641975308642",
         "-7.6115828308929085",
         "0.515360321561872",
         "0.1258501291989664",
         "0.2847321102210738",
         "0.028911414010910134",
         "0.17770881424059717",
         "0.5087298018949181",
         "114.00365948894631",
         "232402.0565604364"
        ],
        [
         "('r&b', '2020s')",
         "37.90163934426229",
         "0.685672131147541",
         "0.6005573770491803",
         "4.868852459016393",
         "-7.402426229508197",
         "0.5409836065573771",
         "0.1332049180327869",
         "0.22875819672131148",
         "0.024979946885245904",
         "0.17710983606557376",
         "0.49039344262295087",
         "118.05285245901639",
         "186714.55737704918"
        ],
        [
         "('rap', '1960s')",
         "44.46153846153846",
         "0.5661538461538462",
         "0.5934615384615385",
         "4.076923076923077",
         "-8.802769230769231",
         "0.7692307692307693",
         "0.04182307692307692",
         "0.3866153846153846",
         "0.07016846923076923",
         "0.21371538461538458",
         "0.7280769230769231",
         "117.51676923076924",
         "268236.3076923077"
        ],
        [
         "('rap', '1980s')",
         "38.82316118935837",
         "0.768830985915493",
         "0.6665023474178403",
         "5.823161189358372",
         "-8.214164319248825",
         "0.5665101721439749",
         "0.2395528951486698",
         "0.10821933765258215",
         "0.014846451768388108",
         "0.2259693270735524",
         "0.6168594679186229",
         "111.20125039123631",
         "265955.9906103286"
        ],
        [
         "('rap', '2000s')",
         "41.99499346974314",
         "0.7091288637353069",
         "0.6488560078363083",
         "5.38158467566391",
         "-6.907664997823248",
         "0.5195907705703091",
         "0.19275245973008273",
         "0.20641409989116238",
         "0.08766845087070091",
         "0.18638943404440575",
         "0.4903968654767088",
         "121.88365346103612",
         "206957.6029603831"
        ],
        [
         "('rap', '2020s')",
         "49.828947368421055",
         "0.7159868421052632",
         "0.6117565789473683",
         "5.3881578947368425",
         "-7.710967105263158",
         "0.4144736842105263",
         "0.17373750000000002",
         "0.2557402631578947",
         "0.12874756986842106",
         "0.18439934210526315",
         "0.46460921052631576",
         "121.04201315789473",
         "183045.38815789475"
        ],
        [
         "('rock', '1940s')",
         "37.0",
         "0.5605",
         "0.59",
         "7.5",
         "-7.2805",
         "0.5",
         "0.0864",
         "0.589",
         "9.65e-07",
         "0.0778",
         "0.916",
         "175.94",
         "139166.5"
        ],
        [
         "('rock', '1960s')",
         "44.12547051442911",
         "0.5254767879548307",
         "0.6312224592220828",
         "4.987452948557089",
         "-9.708052697616061",
         "0.7440401505646174",
         "0.054118444165621074",
         "0.2505748122961104",
         "0.05628068799247177",
         "0.19171254705144292",
         "0.5962603513174404",
         "123.36049937264742",
         "252828.04015056463"
        ],
        [
         "('rock', '1980s')",
         "44.56857855361596",
         "0.5367747298420615",
         "0.7095055694098088",
         "5.091438071487946",
         "-8.597046550290939",
         "0.7348295926849543",
         "0.04885386533665836",
         "0.14511952985037407",
         "0.051063870714879465",
         "0.2040997506234414",
         "0.5614476309226933",
         "123.14393848711553",
         "261274.58686616793"
        ],
        [
         "('rock', '2000s')",
         "35.59018567639257",
         "0.5072232537577365",
         "0.7795583554376658",
         "5.412024756852343",
         "-6.289758620689655",
         "0.6560565870910698",
         "0.06362051282051283",
         "0.11420509171971707",
         "0.07807500072060124",
         "0.20939456233421752",
         "0.49638620689655166",
         "126.41205747126438",
         "240069.9549071618"
        ],
        [
         "('rock', '2020s')",
         "37.09756097560975",
         "0.46875609756097564",
         "0.8461219512195123",
         "6.146341463414634",
         "-5.450146341463414",
         "0.4878048780487805",
         "0.08445609756097561",
         "0.026814946829268292",
         "0.06873786048780488",
         "0.23109999999999997",
         "0.4236829268292683",
         "135.08319512195123",
         "222481.65853658537"
        ]
       ],
       "shape": {
        "columns": 13,
        "rows": 26
       }
      },
      "text/html": [
       "<div>\n",
       "<style scoped>\n",
       "    .dataframe tbody tr th:only-of-type {\n",
       "        vertical-align: middle;\n",
       "    }\n",
       "\n",
       "    .dataframe tbody tr th {\n",
       "        vertical-align: top;\n",
       "    }\n",
       "\n",
       "    .dataframe thead th {\n",
       "        text-align: right;\n",
       "    }\n",
       "</style>\n",
       "<table border=\"1\" class=\"dataframe\">\n",
       "  <thead>\n",
       "    <tr style=\"text-align: right;\">\n",
       "      <th></th>\n",
       "      <th></th>\n",
       "      <th>track_popularity</th>\n",
       "      <th>danceability</th>\n",
       "      <th>energy</th>\n",
       "      <th>key</th>\n",
       "      <th>loudness</th>\n",
       "      <th>mode</th>\n",
       "      <th>speechiness</th>\n",
       "      <th>acousticness</th>\n",
       "      <th>instrumentalness</th>\n",
       "      <th>liveness</th>\n",
       "      <th>valence</th>\n",
       "      <th>tempo</th>\n",
       "      <th>duration_ms</th>\n",
       "    </tr>\n",
       "    <tr>\n",
       "      <th>playlist_genre</th>\n",
       "      <th>release_decade</th>\n",
       "      <th></th>\n",
       "      <th></th>\n",
       "      <th></th>\n",
       "      <th></th>\n",
       "      <th></th>\n",
       "      <th></th>\n",
       "      <th></th>\n",
       "      <th></th>\n",
       "      <th></th>\n",
       "      <th></th>\n",
       "      <th></th>\n",
       "      <th></th>\n",
       "      <th></th>\n",
       "    </tr>\n",
       "  </thead>\n",
       "  <tbody>\n",
       "    <tr>\n",
       "      <th rowspan=\"4\" valign=\"top\">edm</th>\n",
       "      <th>1960s</th>\n",
       "      <td>24.000000</td>\n",
       "      <td>0.738000</td>\n",
       "      <td>0.523500</td>\n",
       "      <td>8.000000</td>\n",
       "      <td>-12.414750</td>\n",
       "      <td>0.500000</td>\n",
       "      <td>0.054300</td>\n",
       "      <td>0.027772</td>\n",
       "      <td>5.169005e-01</td>\n",
       "      <td>0.124775</td>\n",
       "      <td>0.812500</td>\n",
       "      <td>125.688250</td>\n",
       "      <td>451863.750000</td>\n",
       "    </tr>\n",
       "    <tr>\n",
       "      <th>1980s</th>\n",
       "      <td>38.428571</td>\n",
       "      <td>0.735643</td>\n",
       "      <td>0.721071</td>\n",
       "      <td>5.428571</td>\n",
       "      <td>-9.739429</td>\n",
       "      <td>0.428571</td>\n",
       "      <td>0.079979</td>\n",
       "      <td>0.068253</td>\n",
       "      <td>2.395163e-01</td>\n",
       "      <td>0.178436</td>\n",
       "      <td>0.801143</td>\n",
       "      <td>124.007643</td>\n",
       "      <td>305245.642857</td>\n",
       "    </tr>\n",
       "    <tr>\n",
       "      <th>2000s</th>\n",
       "      <td>30.576275</td>\n",
       "      <td>0.657283</td>\n",
       "      <td>0.810852</td>\n",
       "      <td>5.351243</td>\n",
       "      <td>-5.452831</td>\n",
       "      <td>0.518121</td>\n",
       "      <td>0.087761</td>\n",
       "      <td>0.075987</td>\n",
       "      <td>2.459463e-01</td>\n",
       "      <td>0.214680</td>\n",
       "      <td>0.396240</td>\n",
       "      <td>126.348707</td>\n",
       "      <td>226401.920354</td>\n",
       "    </tr>\n",
       "    <tr>\n",
       "      <th>2020s</th>\n",
       "      <td>34.238938</td>\n",
       "      <td>0.660080</td>\n",
       "      <td>0.778301</td>\n",
       "      <td>5.398230</td>\n",
       "      <td>-6.158301</td>\n",
       "      <td>0.469027</td>\n",
       "      <td>0.097661</td>\n",
       "      <td>0.118271</td>\n",
       "      <td>1.873963e-01</td>\n",
       "      <td>0.206701</td>\n",
       "      <td>0.385310</td>\n",
       "      <td>125.772239</td>\n",
       "      <td>193102.566372</td>\n",
       "    </tr>\n",
       "    <tr>\n",
       "      <th rowspan=\"4\" valign=\"top\">latin</th>\n",
       "      <th>1960s</th>\n",
       "      <td>56.000000</td>\n",
       "      <td>0.674250</td>\n",
       "      <td>0.704750</td>\n",
       "      <td>5.750000</td>\n",
       "      <td>-6.944500</td>\n",
       "      <td>0.750000</td>\n",
       "      <td>0.053325</td>\n",
       "      <td>0.468000</td>\n",
       "      <td>4.216500e-04</td>\n",
       "      <td>0.298025</td>\n",
       "      <td>0.801000</td>\n",
       "      <td>104.286000</td>\n",
       "      <td>204559.750000</td>\n",
       "    </tr>\n",
       "    <tr>\n",
       "      <th>1980s</th>\n",
       "      <td>38.796954</td>\n",
       "      <td>0.696807</td>\n",
       "      <td>0.677990</td>\n",
       "      <td>5.634518</td>\n",
       "      <td>-9.604066</td>\n",
       "      <td>0.609137</td>\n",
       "      <td>0.085346</td>\n",
       "      <td>0.195054</td>\n",
       "      <td>5.000863e-02</td>\n",
       "      <td>0.175956</td>\n",
       "      <td>0.661157</td>\n",
       "      <td>118.756294</td>\n",
       "      <td>254845.791878</td>\n",
       "    </tr>\n",
       "    <tr>\n",
       "      <th>2000s</th>\n",
       "      <td>41.574330</td>\n",
       "      <td>0.711549</td>\n",
       "      <td>0.712491</td>\n",
       "      <td>5.472533</td>\n",
       "      <td>-6.331974</td>\n",
       "      <td>0.558709</td>\n",
       "      <td>0.101144</td>\n",
       "      <td>0.212781</td>\n",
       "      <td>5.344505e-02</td>\n",
       "      <td>0.182087</td>\n",
       "      <td>0.604591</td>\n",
       "      <td>118.445509</td>\n",
       "      <td>215821.877896</td>\n",
       "    </tr>\n",
       "    <tr>\n",
       "      <th>2020s</th>\n",
       "      <td>41.297872</td>\n",
       "      <td>0.720777</td>\n",
       "      <td>0.693876</td>\n",
       "      <td>4.957447</td>\n",
       "      <td>-6.082457</td>\n",
       "      <td>0.574468</td>\n",
       "      <td>0.106217</td>\n",
       "      <td>0.235072</td>\n",
       "      <td>2.518787e-02</td>\n",
       "      <td>0.173805</td>\n",
       "      <td>0.599568</td>\n",
       "      <td>122.017234</td>\n",
       "      <td>198349.159574</td>\n",
       "    </tr>\n",
       "    <tr>\n",
       "      <th rowspan=\"4\" valign=\"top\">pop</th>\n",
       "      <th>1960s</th>\n",
       "      <td>61.315789</td>\n",
       "      <td>0.549368</td>\n",
       "      <td>0.752789</td>\n",
       "      <td>5.210526</td>\n",
       "      <td>-8.410579</td>\n",
       "      <td>0.736842</td>\n",
       "      <td>0.055200</td>\n",
       "      <td>0.145600</td>\n",
       "      <td>7.148944e-02</td>\n",
       "      <td>0.272053</td>\n",
       "      <td>0.656684</td>\n",
       "      <td>126.791263</td>\n",
       "      <td>236091.947368</td>\n",
       "    </tr>\n",
       "    <tr>\n",
       "      <th>1980s</th>\n",
       "      <td>43.025316</td>\n",
       "      <td>0.637578</td>\n",
       "      <td>0.750768</td>\n",
       "      <td>5.628692</td>\n",
       "      <td>-8.898181</td>\n",
       "      <td>0.611814</td>\n",
       "      <td>0.046927</td>\n",
       "      <td>0.122866</td>\n",
       "      <td>1.165092e-01</td>\n",
       "      <td>0.172619</td>\n",
       "      <td>0.649747</td>\n",
       "      <td>126.059359</td>\n",
       "      <td>256150.417722</td>\n",
       "    </tr>\n",
       "    <tr>\n",
       "      <th>2000s</th>\n",
       "      <td>45.977712</td>\n",
       "      <td>0.637952</td>\n",
       "      <td>0.700958</td>\n",
       "      <td>5.302271</td>\n",
       "      <td>-6.210941</td>\n",
       "      <td>0.587349</td>\n",
       "      <td>0.075422</td>\n",
       "      <td>0.171679</td>\n",
       "      <td>6.112266e-02</td>\n",
       "      <td>0.176875</td>\n",
       "      <td>0.495327</td>\n",
       "      <td>120.771818</td>\n",
       "      <td>216765.288898</td>\n",
       "    </tr>\n",
       "    <tr>\n",
       "      <th>2020s</th>\n",
       "      <td>46.200000</td>\n",
       "      <td>0.640806</td>\n",
       "      <td>0.625691</td>\n",
       "      <td>5.272727</td>\n",
       "      <td>-7.264345</td>\n",
       "      <td>0.678788</td>\n",
       "      <td>0.079468</td>\n",
       "      <td>0.258265</td>\n",
       "      <td>5.147911e-02</td>\n",
       "      <td>0.184699</td>\n",
       "      <td>0.467985</td>\n",
       "      <td>118.422085</td>\n",
       "      <td>199560.539394</td>\n",
       "    </tr>\n",
       "    <tr>\n",
       "      <th rowspan=\"5\" valign=\"top\">r&amp;b</th>\n",
       "      <th>1940s</th>\n",
       "      <td>59.000000</td>\n",
       "      <td>0.565000</td>\n",
       "      <td>0.962000</td>\n",
       "      <td>8.000000</td>\n",
       "      <td>-2.981000</td>\n",
       "      <td>1.000000</td>\n",
       "      <td>0.064000</td>\n",
       "      <td>0.437000</td>\n",
       "      <td>0.000000e+00</td>\n",
       "      <td>0.056000</td>\n",
       "      <td>0.906000</td>\n",
       "      <td>148.808000</td>\n",
       "      <td>160227.000000</td>\n",
       "    </tr>\n",
       "    <tr>\n",
       "      <th>1960s</th>\n",
       "      <td>45.589744</td>\n",
       "      <td>0.618397</td>\n",
       "      <td>0.606077</td>\n",
       "      <td>5.346154</td>\n",
       "      <td>-10.313833</td>\n",
       "      <td>0.769231</td>\n",
       "      <td>0.063738</td>\n",
       "      <td>0.343364</td>\n",
       "      <td>6.417417e-02</td>\n",
       "      <td>0.182747</td>\n",
       "      <td>0.702763</td>\n",
       "      <td>122.172308</td>\n",
       "      <td>229558.179487</td>\n",
       "    </tr>\n",
       "    <tr>\n",
       "      <th>1980s</th>\n",
       "      <td>32.017026</td>\n",
       "      <td>0.703883</td>\n",
       "      <td>0.613136</td>\n",
       "      <td>5.702611</td>\n",
       "      <td>-9.548880</td>\n",
       "      <td>0.522134</td>\n",
       "      <td>0.078128</td>\n",
       "      <td>0.177763</td>\n",
       "      <td>2.414560e-02</td>\n",
       "      <td>0.170450</td>\n",
       "      <td>0.641680</td>\n",
       "      <td>112.516850</td>\n",
       "      <td>277310.874007</td>\n",
       "    </tr>\n",
       "    <tr>\n",
       "      <th>2000s</th>\n",
       "      <td>36.661499</td>\n",
       "      <td>0.659075</td>\n",
       "      <td>0.582115</td>\n",
       "      <td>5.308642</td>\n",
       "      <td>-7.611583</td>\n",
       "      <td>0.515360</td>\n",
       "      <td>0.125850</td>\n",
       "      <td>0.284732</td>\n",
       "      <td>2.891141e-02</td>\n",
       "      <td>0.177709</td>\n",
       "      <td>0.508730</td>\n",
       "      <td>114.003659</td>\n",
       "      <td>232402.056560</td>\n",
       "    </tr>\n",
       "    <tr>\n",
       "      <th>2020s</th>\n",
       "      <td>37.901639</td>\n",
       "      <td>0.685672</td>\n",
       "      <td>0.600557</td>\n",
       "      <td>4.868852</td>\n",
       "      <td>-7.402426</td>\n",
       "      <td>0.540984</td>\n",
       "      <td>0.133205</td>\n",
       "      <td>0.228758</td>\n",
       "      <td>2.497995e-02</td>\n",
       "      <td>0.177110</td>\n",
       "      <td>0.490393</td>\n",
       "      <td>118.052852</td>\n",
       "      <td>186714.557377</td>\n",
       "    </tr>\n",
       "    <tr>\n",
       "      <th rowspan=\"4\" valign=\"top\">rap</th>\n",
       "      <th>1960s</th>\n",
       "      <td>44.461538</td>\n",
       "      <td>0.566154</td>\n",
       "      <td>0.593462</td>\n",
       "      <td>4.076923</td>\n",
       "      <td>-8.802769</td>\n",
       "      <td>0.769231</td>\n",
       "      <td>0.041823</td>\n",
       "      <td>0.386615</td>\n",
       "      <td>7.016847e-02</td>\n",
       "      <td>0.213715</td>\n",
       "      <td>0.728077</td>\n",
       "      <td>117.516769</td>\n",
       "      <td>268236.307692</td>\n",
       "    </tr>\n",
       "    <tr>\n",
       "      <th>1980s</th>\n",
       "      <td>38.823161</td>\n",
       "      <td>0.768831</td>\n",
       "      <td>0.666502</td>\n",
       "      <td>5.823161</td>\n",
       "      <td>-8.214164</td>\n",
       "      <td>0.566510</td>\n",
       "      <td>0.239553</td>\n",
       "      <td>0.108219</td>\n",
       "      <td>1.484645e-02</td>\n",
       "      <td>0.225969</td>\n",
       "      <td>0.616859</td>\n",
       "      <td>111.201250</td>\n",
       "      <td>265955.990610</td>\n",
       "    </tr>\n",
       "    <tr>\n",
       "      <th>2000s</th>\n",
       "      <td>41.994993</td>\n",
       "      <td>0.709129</td>\n",
       "      <td>0.648856</td>\n",
       "      <td>5.381585</td>\n",
       "      <td>-6.907665</td>\n",
       "      <td>0.519591</td>\n",
       "      <td>0.192752</td>\n",
       "      <td>0.206414</td>\n",
       "      <td>8.766845e-02</td>\n",
       "      <td>0.186389</td>\n",
       "      <td>0.490397</td>\n",
       "      <td>121.883653</td>\n",
       "      <td>206957.602960</td>\n",
       "    </tr>\n",
       "    <tr>\n",
       "      <th>2020s</th>\n",
       "      <td>49.828947</td>\n",
       "      <td>0.715987</td>\n",
       "      <td>0.611757</td>\n",
       "      <td>5.388158</td>\n",
       "      <td>-7.710967</td>\n",
       "      <td>0.414474</td>\n",
       "      <td>0.173738</td>\n",
       "      <td>0.255740</td>\n",
       "      <td>1.287476e-01</td>\n",
       "      <td>0.184399</td>\n",
       "      <td>0.464609</td>\n",
       "      <td>121.042013</td>\n",
       "      <td>183045.388158</td>\n",
       "    </tr>\n",
       "    <tr>\n",
       "      <th rowspan=\"5\" valign=\"top\">rock</th>\n",
       "      <th>1940s</th>\n",
       "      <td>37.000000</td>\n",
       "      <td>0.560500</td>\n",
       "      <td>0.590000</td>\n",
       "      <td>7.500000</td>\n",
       "      <td>-7.280500</td>\n",
       "      <td>0.500000</td>\n",
       "      <td>0.086400</td>\n",
       "      <td>0.589000</td>\n",
       "      <td>9.650000e-07</td>\n",
       "      <td>0.077800</td>\n",
       "      <td>0.916000</td>\n",
       "      <td>175.940000</td>\n",
       "      <td>139166.500000</td>\n",
       "    </tr>\n",
       "    <tr>\n",
       "      <th>1960s</th>\n",
       "      <td>44.125471</td>\n",
       "      <td>0.525477</td>\n",
       "      <td>0.631222</td>\n",
       "      <td>4.987453</td>\n",
       "      <td>-9.708053</td>\n",
       "      <td>0.744040</td>\n",
       "      <td>0.054118</td>\n",
       "      <td>0.250575</td>\n",
       "      <td>5.628069e-02</td>\n",
       "      <td>0.191713</td>\n",
       "      <td>0.596260</td>\n",
       "      <td>123.360499</td>\n",
       "      <td>252828.040151</td>\n",
       "    </tr>\n",
       "    <tr>\n",
       "      <th>1980s</th>\n",
       "      <td>44.568579</td>\n",
       "      <td>0.536775</td>\n",
       "      <td>0.709506</td>\n",
       "      <td>5.091438</td>\n",
       "      <td>-8.597047</td>\n",
       "      <td>0.734830</td>\n",
       "      <td>0.048854</td>\n",
       "      <td>0.145120</td>\n",
       "      <td>5.106387e-02</td>\n",
       "      <td>0.204100</td>\n",
       "      <td>0.561448</td>\n",
       "      <td>123.143938</td>\n",
       "      <td>261274.586866</td>\n",
       "    </tr>\n",
       "    <tr>\n",
       "      <th>2000s</th>\n",
       "      <td>35.590186</td>\n",
       "      <td>0.507223</td>\n",
       "      <td>0.779558</td>\n",
       "      <td>5.412025</td>\n",
       "      <td>-6.289759</td>\n",
       "      <td>0.656057</td>\n",
       "      <td>0.063621</td>\n",
       "      <td>0.114205</td>\n",
       "      <td>7.807500e-02</td>\n",
       "      <td>0.209395</td>\n",
       "      <td>0.496386</td>\n",
       "      <td>126.412057</td>\n",
       "      <td>240069.954907</td>\n",
       "    </tr>\n",
       "    <tr>\n",
       "      <th>2020s</th>\n",
       "      <td>37.097561</td>\n",
       "      <td>0.468756</td>\n",
       "      <td>0.846122</td>\n",
       "      <td>6.146341</td>\n",
       "      <td>-5.450146</td>\n",
       "      <td>0.487805</td>\n",
       "      <td>0.084456</td>\n",
       "      <td>0.026815</td>\n",
       "      <td>6.873786e-02</td>\n",
       "      <td>0.231100</td>\n",
       "      <td>0.423683</td>\n",
       "      <td>135.083195</td>\n",
       "      <td>222481.658537</td>\n",
       "    </tr>\n",
       "  </tbody>\n",
       "</table>\n",
       "</div>"
      ],
      "text/plain": [
       "                               track_popularity  danceability    energy  \\\n",
       "playlist_genre release_decade                                             \n",
       "edm            1960s                  24.000000      0.738000  0.523500   \n",
       "               1980s                  38.428571      0.735643  0.721071   \n",
       "               2000s                  30.576275      0.657283  0.810852   \n",
       "               2020s                  34.238938      0.660080  0.778301   \n",
       "latin          1960s                  56.000000      0.674250  0.704750   \n",
       "               1980s                  38.796954      0.696807  0.677990   \n",
       "               2000s                  41.574330      0.711549  0.712491   \n",
       "               2020s                  41.297872      0.720777  0.693876   \n",
       "pop            1960s                  61.315789      0.549368  0.752789   \n",
       "               1980s                  43.025316      0.637578  0.750768   \n",
       "               2000s                  45.977712      0.637952  0.700958   \n",
       "               2020s                  46.200000      0.640806  0.625691   \n",
       "r&b            1940s                  59.000000      0.565000  0.962000   \n",
       "               1960s                  45.589744      0.618397  0.606077   \n",
       "               1980s                  32.017026      0.703883  0.613136   \n",
       "               2000s                  36.661499      0.659075  0.582115   \n",
       "               2020s                  37.901639      0.685672  0.600557   \n",
       "rap            1960s                  44.461538      0.566154  0.593462   \n",
       "               1980s                  38.823161      0.768831  0.666502   \n",
       "               2000s                  41.994993      0.709129  0.648856   \n",
       "               2020s                  49.828947      0.715987  0.611757   \n",
       "rock           1940s                  37.000000      0.560500  0.590000   \n",
       "               1960s                  44.125471      0.525477  0.631222   \n",
       "               1980s                  44.568579      0.536775  0.709506   \n",
       "               2000s                  35.590186      0.507223  0.779558   \n",
       "               2020s                  37.097561      0.468756  0.846122   \n",
       "\n",
       "                                    key   loudness      mode  speechiness  \\\n",
       "playlist_genre release_decade                                               \n",
       "edm            1960s           8.000000 -12.414750  0.500000     0.054300   \n",
       "               1980s           5.428571  -9.739429  0.428571     0.079979   \n",
       "               2000s           5.351243  -5.452831  0.518121     0.087761   \n",
       "               2020s           5.398230  -6.158301  0.469027     0.097661   \n",
       "latin          1960s           5.750000  -6.944500  0.750000     0.053325   \n",
       "               1980s           5.634518  -9.604066  0.609137     0.085346   \n",
       "               2000s           5.472533  -6.331974  0.558709     0.101144   \n",
       "               2020s           4.957447  -6.082457  0.574468     0.106217   \n",
       "pop            1960s           5.210526  -8.410579  0.736842     0.055200   \n",
       "               1980s           5.628692  -8.898181  0.611814     0.046927   \n",
       "               2000s           5.302271  -6.210941  0.587349     0.075422   \n",
       "               2020s           5.272727  -7.264345  0.678788     0.079468   \n",
       "r&b            1940s           8.000000  -2.981000  1.000000     0.064000   \n",
       "               1960s           5.346154 -10.313833  0.769231     0.063738   \n",
       "               1980s           5.702611  -9.548880  0.522134     0.078128   \n",
       "               2000s           5.308642  -7.611583  0.515360     0.125850   \n",
       "               2020s           4.868852  -7.402426  0.540984     0.133205   \n",
       "rap            1960s           4.076923  -8.802769  0.769231     0.041823   \n",
       "               1980s           5.823161  -8.214164  0.566510     0.239553   \n",
       "               2000s           5.381585  -6.907665  0.519591     0.192752   \n",
       "               2020s           5.388158  -7.710967  0.414474     0.173738   \n",
       "rock           1940s           7.500000  -7.280500  0.500000     0.086400   \n",
       "               1960s           4.987453  -9.708053  0.744040     0.054118   \n",
       "               1980s           5.091438  -8.597047  0.734830     0.048854   \n",
       "               2000s           5.412025  -6.289759  0.656057     0.063621   \n",
       "               2020s           6.146341  -5.450146  0.487805     0.084456   \n",
       "\n",
       "                               acousticness  instrumentalness  liveness  \\\n",
       "playlist_genre release_decade                                             \n",
       "edm            1960s               0.027772      5.169005e-01  0.124775   \n",
       "               1980s               0.068253      2.395163e-01  0.178436   \n",
       "               2000s               0.075987      2.459463e-01  0.214680   \n",
       "               2020s               0.118271      1.873963e-01  0.206701   \n",
       "latin          1960s               0.468000      4.216500e-04  0.298025   \n",
       "               1980s               0.195054      5.000863e-02  0.175956   \n",
       "               2000s               0.212781      5.344505e-02  0.182087   \n",
       "               2020s               0.235072      2.518787e-02  0.173805   \n",
       "pop            1960s               0.145600      7.148944e-02  0.272053   \n",
       "               1980s               0.122866      1.165092e-01  0.172619   \n",
       "               2000s               0.171679      6.112266e-02  0.176875   \n",
       "               2020s               0.258265      5.147911e-02  0.184699   \n",
       "r&b            1940s               0.437000      0.000000e+00  0.056000   \n",
       "               1960s               0.343364      6.417417e-02  0.182747   \n",
       "               1980s               0.177763      2.414560e-02  0.170450   \n",
       "               2000s               0.284732      2.891141e-02  0.177709   \n",
       "               2020s               0.228758      2.497995e-02  0.177110   \n",
       "rap            1960s               0.386615      7.016847e-02  0.213715   \n",
       "               1980s               0.108219      1.484645e-02  0.225969   \n",
       "               2000s               0.206414      8.766845e-02  0.186389   \n",
       "               2020s               0.255740      1.287476e-01  0.184399   \n",
       "rock           1940s               0.589000      9.650000e-07  0.077800   \n",
       "               1960s               0.250575      5.628069e-02  0.191713   \n",
       "               1980s               0.145120      5.106387e-02  0.204100   \n",
       "               2000s               0.114205      7.807500e-02  0.209395   \n",
       "               2020s               0.026815      6.873786e-02  0.231100   \n",
       "\n",
       "                                valence       tempo    duration_ms  \n",
       "playlist_genre release_decade                                       \n",
       "edm            1960s           0.812500  125.688250  451863.750000  \n",
       "               1980s           0.801143  124.007643  305245.642857  \n",
       "               2000s           0.396240  126.348707  226401.920354  \n",
       "               2020s           0.385310  125.772239  193102.566372  \n",
       "latin          1960s           0.801000  104.286000  204559.750000  \n",
       "               1980s           0.661157  118.756294  254845.791878  \n",
       "               2000s           0.604591  118.445509  215821.877896  \n",
       "               2020s           0.599568  122.017234  198349.159574  \n",
       "pop            1960s           0.656684  126.791263  236091.947368  \n",
       "               1980s           0.649747  126.059359  256150.417722  \n",
       "               2000s           0.495327  120.771818  216765.288898  \n",
       "               2020s           0.467985  118.422085  199560.539394  \n",
       "r&b            1940s           0.906000  148.808000  160227.000000  \n",
       "               1960s           0.702763  122.172308  229558.179487  \n",
       "               1980s           0.641680  112.516850  277310.874007  \n",
       "               2000s           0.508730  114.003659  232402.056560  \n",
       "               2020s           0.490393  118.052852  186714.557377  \n",
       "rap            1960s           0.728077  117.516769  268236.307692  \n",
       "               1980s           0.616859  111.201250  265955.990610  \n",
       "               2000s           0.490397  121.883653  206957.602960  \n",
       "               2020s           0.464609  121.042013  183045.388158  \n",
       "rock           1940s           0.916000  175.940000  139166.500000  \n",
       "               1960s           0.596260  123.360499  252828.040151  \n",
       "               1980s           0.561448  123.143938  261274.586866  \n",
       "               2000s           0.496386  126.412057  240069.954907  \n",
       "               2020s           0.423683  135.083195  222481.658537  "
      ]
     },
     "execution_count": 2,
     "metadata": {},
     "output_type": "execute_result"
    }
   ],
   "source": [
    "# Calculate the average of each feature by genre\n",
    "numerical_features = df.select_dtypes(include=['float64', 'int64'])\n",
    "\n",
    "# Extract the decade from the track_album_release_date\n",
    "df['release_decade'] = (df['track_album_release_date'].str[:4].astype(int) // 20 * 20).astype(str) + 's'\n",
    "\n",
    "# Calculate the average of each numerical feature by genre and release decade\n",
    "average_by_genre_decade = numerical_features.groupby([df['playlist_genre'], df['release_decade']]).mean()\n",
    "\n",
    "# Display the result\n",
    "average_by_genre_decade.head(50)"
   ]
  },
  {
   "cell_type": "code",
   "execution_count": 3,
   "metadata": {},
   "outputs": [
    {
     "data": {
      "application/vnd.microsoft.datawrangler.viewer.v0+json": {
       "columns": [
        {
         "name": "index",
         "rawType": "int64",
         "type": "integer"
        },
        {
         "name": "playlist_genre",
         "rawType": "object",
         "type": "string"
        },
        {
         "name": "release_decade",
         "rawType": "object",
         "type": "string"
        },
        {
         "name": "track_popularity",
         "rawType": "float64",
         "type": "float"
        },
        {
         "name": "danceability",
         "rawType": "float64",
         "type": "float"
        },
        {
         "name": "energy",
         "rawType": "float64",
         "type": "float"
        },
        {
         "name": "key",
         "rawType": "float64",
         "type": "float"
        },
        {
         "name": "loudness",
         "rawType": "float64",
         "type": "float"
        },
        {
         "name": "mode",
         "rawType": "float64",
         "type": "float"
        },
        {
         "name": "speechiness",
         "rawType": "float64",
         "type": "float"
        },
        {
         "name": "acousticness",
         "rawType": "float64",
         "type": "float"
        },
        {
         "name": "instrumentalness",
         "rawType": "float64",
         "type": "float"
        },
        {
         "name": "liveness",
         "rawType": "float64",
         "type": "float"
        },
        {
         "name": "valence",
         "rawType": "float64",
         "type": "float"
        },
        {
         "name": "tempo",
         "rawType": "float64",
         "type": "float"
        },
        {
         "name": "duration_ms",
         "rawType": "float64",
         "type": "float"
        }
       ],
       "conversionMethod": "pd.DataFrame",
       "ref": "f0886115-decd-45f3-8e30-db97c2e0ea3b",
       "rows": [
        [
         "0",
         "edm",
         "1960s",
         "24.0",
         "0.738",
         "0.5235000000000001",
         "8.0",
         "-12.41475",
         "0.5",
         "0.0543",
         "0.0277725",
         "0.5169005",
         "0.124775",
         "0.8125",
         "125.68825",
         "451863.75"
        ],
        [
         "1",
         "edm",
         "1980s",
         "38.42857142857143",
         "0.7356428571428572",
         "0.7210714285714286",
         "5.428571428571429",
         "-9.739428571428572",
         "0.42857142857142855",
         "0.07997857142857143",
         "0.068253",
         "0.23951632142857143",
         "0.17843571428571428",
         "0.801142857142857",
         "124.00764285714286",
         "305245.64285714284"
        ],
        [
         "2",
         "edm",
         "2000s",
         "30.576274757690687",
         "0.6572825537294564",
         "0.8108516645596292",
         "5.351243152128108",
         "-5.4528314369995785",
         "0.5181205225453013",
         "0.08776076696165191",
         "0.07598692695743785",
         "0.2459462572018542",
         "0.21467979351032448",
         "0.396240391908976",
         "126.34870691108301",
         "226401.9203539823"
        ],
        [
         "3",
         "edm",
         "2020s",
         "34.23893805309734",
         "0.6600796460176991",
         "0.7783008849557522",
         "5.398230088495575",
         "-6.158300884955753",
         "0.4690265486725664",
         "0.09766106194690266",
         "0.1182713389380531",
         "0.18739629451327433",
         "0.2067008849557522",
         "0.3853097345132743",
         "125.7722389380531",
         "193102.5663716814"
        ],
        [
         "4",
         "latin",
         "1960s",
         "56.0",
         "0.67425",
         "0.70475",
         "5.75",
         "-6.9445",
         "0.75",
         "0.053325",
         "0.46799999999999997",
         "0.00042165000000000003",
         "0.298025",
         "0.8009999999999999",
         "104.286",
         "204559.75"
        ]
       ],
       "shape": {
        "columns": 15,
        "rows": 5
       }
      },
      "text/html": [
       "<div>\n",
       "<style scoped>\n",
       "    .dataframe tbody tr th:only-of-type {\n",
       "        vertical-align: middle;\n",
       "    }\n",
       "\n",
       "    .dataframe tbody tr th {\n",
       "        vertical-align: top;\n",
       "    }\n",
       "\n",
       "    .dataframe thead th {\n",
       "        text-align: right;\n",
       "    }\n",
       "</style>\n",
       "<table border=\"1\" class=\"dataframe\">\n",
       "  <thead>\n",
       "    <tr style=\"text-align: right;\">\n",
       "      <th></th>\n",
       "      <th>playlist_genre</th>\n",
       "      <th>release_decade</th>\n",
       "      <th>track_popularity</th>\n",
       "      <th>danceability</th>\n",
       "      <th>energy</th>\n",
       "      <th>key</th>\n",
       "      <th>loudness</th>\n",
       "      <th>mode</th>\n",
       "      <th>speechiness</th>\n",
       "      <th>acousticness</th>\n",
       "      <th>instrumentalness</th>\n",
       "      <th>liveness</th>\n",
       "      <th>valence</th>\n",
       "      <th>tempo</th>\n",
       "      <th>duration_ms</th>\n",
       "    </tr>\n",
       "  </thead>\n",
       "  <tbody>\n",
       "    <tr>\n",
       "      <th>0</th>\n",
       "      <td>edm</td>\n",
       "      <td>1960s</td>\n",
       "      <td>24.000000</td>\n",
       "      <td>0.738000</td>\n",
       "      <td>0.523500</td>\n",
       "      <td>8.000000</td>\n",
       "      <td>-12.414750</td>\n",
       "      <td>0.500000</td>\n",
       "      <td>0.054300</td>\n",
       "      <td>0.027772</td>\n",
       "      <td>0.516900</td>\n",
       "      <td>0.124775</td>\n",
       "      <td>0.812500</td>\n",
       "      <td>125.688250</td>\n",
       "      <td>451863.750000</td>\n",
       "    </tr>\n",
       "    <tr>\n",
       "      <th>1</th>\n",
       "      <td>edm</td>\n",
       "      <td>1980s</td>\n",
       "      <td>38.428571</td>\n",
       "      <td>0.735643</td>\n",
       "      <td>0.721071</td>\n",
       "      <td>5.428571</td>\n",
       "      <td>-9.739429</td>\n",
       "      <td>0.428571</td>\n",
       "      <td>0.079979</td>\n",
       "      <td>0.068253</td>\n",
       "      <td>0.239516</td>\n",
       "      <td>0.178436</td>\n",
       "      <td>0.801143</td>\n",
       "      <td>124.007643</td>\n",
       "      <td>305245.642857</td>\n",
       "    </tr>\n",
       "    <tr>\n",
       "      <th>2</th>\n",
       "      <td>edm</td>\n",
       "      <td>2000s</td>\n",
       "      <td>30.576275</td>\n",
       "      <td>0.657283</td>\n",
       "      <td>0.810852</td>\n",
       "      <td>5.351243</td>\n",
       "      <td>-5.452831</td>\n",
       "      <td>0.518121</td>\n",
       "      <td>0.087761</td>\n",
       "      <td>0.075987</td>\n",
       "      <td>0.245946</td>\n",
       "      <td>0.214680</td>\n",
       "      <td>0.396240</td>\n",
       "      <td>126.348707</td>\n",
       "      <td>226401.920354</td>\n",
       "    </tr>\n",
       "    <tr>\n",
       "      <th>3</th>\n",
       "      <td>edm</td>\n",
       "      <td>2020s</td>\n",
       "      <td>34.238938</td>\n",
       "      <td>0.660080</td>\n",
       "      <td>0.778301</td>\n",
       "      <td>5.398230</td>\n",
       "      <td>-6.158301</td>\n",
       "      <td>0.469027</td>\n",
       "      <td>0.097661</td>\n",
       "      <td>0.118271</td>\n",
       "      <td>0.187396</td>\n",
       "      <td>0.206701</td>\n",
       "      <td>0.385310</td>\n",
       "      <td>125.772239</td>\n",
       "      <td>193102.566372</td>\n",
       "    </tr>\n",
       "    <tr>\n",
       "      <th>4</th>\n",
       "      <td>latin</td>\n",
       "      <td>1960s</td>\n",
       "      <td>56.000000</td>\n",
       "      <td>0.674250</td>\n",
       "      <td>0.704750</td>\n",
       "      <td>5.750000</td>\n",
       "      <td>-6.944500</td>\n",
       "      <td>0.750000</td>\n",
       "      <td>0.053325</td>\n",
       "      <td>0.468000</td>\n",
       "      <td>0.000422</td>\n",
       "      <td>0.298025</td>\n",
       "      <td>0.801000</td>\n",
       "      <td>104.286000</td>\n",
       "      <td>204559.750000</td>\n",
       "    </tr>\n",
       "  </tbody>\n",
       "</table>\n",
       "</div>"
      ],
      "text/plain": [
       "  playlist_genre release_decade  track_popularity  danceability    energy  \\\n",
       "0            edm          1960s         24.000000      0.738000  0.523500   \n",
       "1            edm          1980s         38.428571      0.735643  0.721071   \n",
       "2            edm          2000s         30.576275      0.657283  0.810852   \n",
       "3            edm          2020s         34.238938      0.660080  0.778301   \n",
       "4          latin          1960s         56.000000      0.674250  0.704750   \n",
       "\n",
       "        key   loudness      mode  speechiness  acousticness  instrumentalness  \\\n",
       "0  8.000000 -12.414750  0.500000     0.054300      0.027772          0.516900   \n",
       "1  5.428571  -9.739429  0.428571     0.079979      0.068253          0.239516   \n",
       "2  5.351243  -5.452831  0.518121     0.087761      0.075987          0.245946   \n",
       "3  5.398230  -6.158301  0.469027     0.097661      0.118271          0.187396   \n",
       "4  5.750000  -6.944500  0.750000     0.053325      0.468000          0.000422   \n",
       "\n",
       "   liveness   valence       tempo    duration_ms  \n",
       "0  0.124775  0.812500  125.688250  451863.750000  \n",
       "1  0.178436  0.801143  124.007643  305245.642857  \n",
       "2  0.214680  0.396240  126.348707  226401.920354  \n",
       "3  0.206701  0.385310  125.772239  193102.566372  \n",
       "4  0.298025  0.801000  104.286000  204559.750000  "
      ]
     },
     "execution_count": 3,
     "metadata": {},
     "output_type": "execute_result"
    }
   ],
   "source": [
    "average = average_by_genre_decade.reset_index()\n",
    "average.head()"
   ]
  },
  {
   "cell_type": "code",
   "execution_count": 14,
   "metadata": {},
   "outputs": [
    {
     "data": {
      "text/plain": [
       "Index(['playlist_genre', 'release_decade', 'track_popularity', 'danceability',\n",
       "       'energy', 'key', 'loudness', 'mode', 'speechiness', 'acousticness',\n",
       "       'instrumentalness', 'liveness', 'valence', 'tempo', 'duration_ms'],\n",
       "      dtype='object')"
      ]
     },
     "execution_count": 14,
     "metadata": {},
     "output_type": "execute_result"
    }
   ],
   "source": [
    "average.columns"
   ]
  },
  {
   "cell_type": "code",
   "execution_count": 12,
   "metadata": {},
   "outputs": [],
   "source": [
    "average.to_csv('dataset/average_by_genre_decade.csv', index=False)"
   ]
  },
  {
   "cell_type": "code",
   "execution_count": 20,
   "metadata": {},
   "outputs": [
    {
     "data": {
      "application/vnd.plotly.v1+json": {
       "config": {
        "plotlyServerURL": "https://plot.ly"
       },
       "data": [
        {
         "hovertemplate": "release_decade=%{x}<br>track_popularity=%{y}<extra></extra>",
         "legendgroup": "",
         "line": {
          "color": "#636efa",
          "dash": "solid"
         },
         "marker": {
          "symbol": "circle"
         },
         "mode": "lines",
         "name": "",
         "orientation": "v",
         "showlegend": false,
         "type": "scatter",
         "x": [
          "1960s",
          "1980s",
          "2000s",
          "2020s"
         ],
         "xaxis": "x",
         "y": {
          "bdata": "AAAAAAAAOEBu27Zt2zZDQLXKFb6Gkz5AWOmphZUeQUA=",
          "dtype": "f8"
         },
         "yaxis": "y"
        }
       ],
       "layout": {
        "legend": {
         "tracegroupgap": 0
        },
        "template": {
         "data": {
          "bar": [
           {
            "error_x": {
             "color": "#2a3f5f"
            },
            "error_y": {
             "color": "#2a3f5f"
            },
            "marker": {
             "line": {
              "color": "#E5ECF6",
              "width": 0.5
             },
             "pattern": {
              "fillmode": "overlay",
              "size": 10,
              "solidity": 0.2
             }
            },
            "type": "bar"
           }
          ],
          "barpolar": [
           {
            "marker": {
             "line": {
              "color": "#E5ECF6",
              "width": 0.5
             },
             "pattern": {
              "fillmode": "overlay",
              "size": 10,
              "solidity": 0.2
             }
            },
            "type": "barpolar"
           }
          ],
          "carpet": [
           {
            "aaxis": {
             "endlinecolor": "#2a3f5f",
             "gridcolor": "white",
             "linecolor": "white",
             "minorgridcolor": "white",
             "startlinecolor": "#2a3f5f"
            },
            "baxis": {
             "endlinecolor": "#2a3f5f",
             "gridcolor": "white",
             "linecolor": "white",
             "minorgridcolor": "white",
             "startlinecolor": "#2a3f5f"
            },
            "type": "carpet"
           }
          ],
          "choropleth": [
           {
            "colorbar": {
             "outlinewidth": 0,
             "ticks": ""
            },
            "type": "choropleth"
           }
          ],
          "contour": [
           {
            "colorbar": {
             "outlinewidth": 0,
             "ticks": ""
            },
            "colorscale": [
             [
              0,
              "#0d0887"
             ],
             [
              0.1111111111111111,
              "#46039f"
             ],
             [
              0.2222222222222222,
              "#7201a8"
             ],
             [
              0.3333333333333333,
              "#9c179e"
             ],
             [
              0.4444444444444444,
              "#bd3786"
             ],
             [
              0.5555555555555556,
              "#d8576b"
             ],
             [
              0.6666666666666666,
              "#ed7953"
             ],
             [
              0.7777777777777778,
              "#fb9f3a"
             ],
             [
              0.8888888888888888,
              "#fdca26"
             ],
             [
              1,
              "#f0f921"
             ]
            ],
            "type": "contour"
           }
          ],
          "contourcarpet": [
           {
            "colorbar": {
             "outlinewidth": 0,
             "ticks": ""
            },
            "type": "contourcarpet"
           }
          ],
          "heatmap": [
           {
            "colorbar": {
             "outlinewidth": 0,
             "ticks": ""
            },
            "colorscale": [
             [
              0,
              "#0d0887"
             ],
             [
              0.1111111111111111,
              "#46039f"
             ],
             [
              0.2222222222222222,
              "#7201a8"
             ],
             [
              0.3333333333333333,
              "#9c179e"
             ],
             [
              0.4444444444444444,
              "#bd3786"
             ],
             [
              0.5555555555555556,
              "#d8576b"
             ],
             [
              0.6666666666666666,
              "#ed7953"
             ],
             [
              0.7777777777777778,
              "#fb9f3a"
             ],
             [
              0.8888888888888888,
              "#fdca26"
             ],
             [
              1,
              "#f0f921"
             ]
            ],
            "type": "heatmap"
           }
          ],
          "histogram": [
           {
            "marker": {
             "pattern": {
              "fillmode": "overlay",
              "size": 10,
              "solidity": 0.2
             }
            },
            "type": "histogram"
           }
          ],
          "histogram2d": [
           {
            "colorbar": {
             "outlinewidth": 0,
             "ticks": ""
            },
            "colorscale": [
             [
              0,
              "#0d0887"
             ],
             [
              0.1111111111111111,
              "#46039f"
             ],
             [
              0.2222222222222222,
              "#7201a8"
             ],
             [
              0.3333333333333333,
              "#9c179e"
             ],
             [
              0.4444444444444444,
              "#bd3786"
             ],
             [
              0.5555555555555556,
              "#d8576b"
             ],
             [
              0.6666666666666666,
              "#ed7953"
             ],
             [
              0.7777777777777778,
              "#fb9f3a"
             ],
             [
              0.8888888888888888,
              "#fdca26"
             ],
             [
              1,
              "#f0f921"
             ]
            ],
            "type": "histogram2d"
           }
          ],
          "histogram2dcontour": [
           {
            "colorbar": {
             "outlinewidth": 0,
             "ticks": ""
            },
            "colorscale": [
             [
              0,
              "#0d0887"
             ],
             [
              0.1111111111111111,
              "#46039f"
             ],
             [
              0.2222222222222222,
              "#7201a8"
             ],
             [
              0.3333333333333333,
              "#9c179e"
             ],
             [
              0.4444444444444444,
              "#bd3786"
             ],
             [
              0.5555555555555556,
              "#d8576b"
             ],
             [
              0.6666666666666666,
              "#ed7953"
             ],
             [
              0.7777777777777778,
              "#fb9f3a"
             ],
             [
              0.8888888888888888,
              "#fdca26"
             ],
             [
              1,
              "#f0f921"
             ]
            ],
            "type": "histogram2dcontour"
           }
          ],
          "mesh3d": [
           {
            "colorbar": {
             "outlinewidth": 0,
             "ticks": ""
            },
            "type": "mesh3d"
           }
          ],
          "parcoords": [
           {
            "line": {
             "colorbar": {
              "outlinewidth": 0,
              "ticks": ""
             }
            },
            "type": "parcoords"
           }
          ],
          "pie": [
           {
            "automargin": true,
            "type": "pie"
           }
          ],
          "scatter": [
           {
            "fillpattern": {
             "fillmode": "overlay",
             "size": 10,
             "solidity": 0.2
            },
            "type": "scatter"
           }
          ],
          "scatter3d": [
           {
            "line": {
             "colorbar": {
              "outlinewidth": 0,
              "ticks": ""
             }
            },
            "marker": {
             "colorbar": {
              "outlinewidth": 0,
              "ticks": ""
             }
            },
            "type": "scatter3d"
           }
          ],
          "scattercarpet": [
           {
            "marker": {
             "colorbar": {
              "outlinewidth": 0,
              "ticks": ""
             }
            },
            "type": "scattercarpet"
           }
          ],
          "scattergeo": [
           {
            "marker": {
             "colorbar": {
              "outlinewidth": 0,
              "ticks": ""
             }
            },
            "type": "scattergeo"
           }
          ],
          "scattergl": [
           {
            "marker": {
             "colorbar": {
              "outlinewidth": 0,
              "ticks": ""
             }
            },
            "type": "scattergl"
           }
          ],
          "scattermap": [
           {
            "marker": {
             "colorbar": {
              "outlinewidth": 0,
              "ticks": ""
             }
            },
            "type": "scattermap"
           }
          ],
          "scattermapbox": [
           {
            "marker": {
             "colorbar": {
              "outlinewidth": 0,
              "ticks": ""
             }
            },
            "type": "scattermapbox"
           }
          ],
          "scatterpolar": [
           {
            "marker": {
             "colorbar": {
              "outlinewidth": 0,
              "ticks": ""
             }
            },
            "type": "scatterpolar"
           }
          ],
          "scatterpolargl": [
           {
            "marker": {
             "colorbar": {
              "outlinewidth": 0,
              "ticks": ""
             }
            },
            "type": "scatterpolargl"
           }
          ],
          "scatterternary": [
           {
            "marker": {
             "colorbar": {
              "outlinewidth": 0,
              "ticks": ""
             }
            },
            "type": "scatterternary"
           }
          ],
          "surface": [
           {
            "colorbar": {
             "outlinewidth": 0,
             "ticks": ""
            },
            "colorscale": [
             [
              0,
              "#0d0887"
             ],
             [
              0.1111111111111111,
              "#46039f"
             ],
             [
              0.2222222222222222,
              "#7201a8"
             ],
             [
              0.3333333333333333,
              "#9c179e"
             ],
             [
              0.4444444444444444,
              "#bd3786"
             ],
             [
              0.5555555555555556,
              "#d8576b"
             ],
             [
              0.6666666666666666,
              "#ed7953"
             ],
             [
              0.7777777777777778,
              "#fb9f3a"
             ],
             [
              0.8888888888888888,
              "#fdca26"
             ],
             [
              1,
              "#f0f921"
             ]
            ],
            "type": "surface"
           }
          ],
          "table": [
           {
            "cells": {
             "fill": {
              "color": "#EBF0F8"
             },
             "line": {
              "color": "white"
             }
            },
            "header": {
             "fill": {
              "color": "#C8D4E3"
             },
             "line": {
              "color": "white"
             }
            },
            "type": "table"
           }
          ]
         },
         "layout": {
          "annotationdefaults": {
           "arrowcolor": "#2a3f5f",
           "arrowhead": 0,
           "arrowwidth": 1
          },
          "autotypenumbers": "strict",
          "coloraxis": {
           "colorbar": {
            "outlinewidth": 0,
            "ticks": ""
           }
          },
          "colorscale": {
           "diverging": [
            [
             0,
             "#8e0152"
            ],
            [
             0.1,
             "#c51b7d"
            ],
            [
             0.2,
             "#de77ae"
            ],
            [
             0.3,
             "#f1b6da"
            ],
            [
             0.4,
             "#fde0ef"
            ],
            [
             0.5,
             "#f7f7f7"
            ],
            [
             0.6,
             "#e6f5d0"
            ],
            [
             0.7,
             "#b8e186"
            ],
            [
             0.8,
             "#7fbc41"
            ],
            [
             0.9,
             "#4d9221"
            ],
            [
             1,
             "#276419"
            ]
           ],
           "sequential": [
            [
             0,
             "#0d0887"
            ],
            [
             0.1111111111111111,
             "#46039f"
            ],
            [
             0.2222222222222222,
             "#7201a8"
            ],
            [
             0.3333333333333333,
             "#9c179e"
            ],
            [
             0.4444444444444444,
             "#bd3786"
            ],
            [
             0.5555555555555556,
             "#d8576b"
            ],
            [
             0.6666666666666666,
             "#ed7953"
            ],
            [
             0.7777777777777778,
             "#fb9f3a"
            ],
            [
             0.8888888888888888,
             "#fdca26"
            ],
            [
             1,
             "#f0f921"
            ]
           ],
           "sequentialminus": [
            [
             0,
             "#0d0887"
            ],
            [
             0.1111111111111111,
             "#46039f"
            ],
            [
             0.2222222222222222,
             "#7201a8"
            ],
            [
             0.3333333333333333,
             "#9c179e"
            ],
            [
             0.4444444444444444,
             "#bd3786"
            ],
            [
             0.5555555555555556,
             "#d8576b"
            ],
            [
             0.6666666666666666,
             "#ed7953"
            ],
            [
             0.7777777777777778,
             "#fb9f3a"
            ],
            [
             0.8888888888888888,
             "#fdca26"
            ],
            [
             1,
             "#f0f921"
            ]
           ]
          },
          "colorway": [
           "#636efa",
           "#EF553B",
           "#00cc96",
           "#ab63fa",
           "#FFA15A",
           "#19d3f3",
           "#FF6692",
           "#B6E880",
           "#FF97FF",
           "#FECB52"
          ],
          "font": {
           "color": "#2a3f5f"
          },
          "geo": {
           "bgcolor": "white",
           "lakecolor": "white",
           "landcolor": "#E5ECF6",
           "showlakes": true,
           "showland": true,
           "subunitcolor": "white"
          },
          "hoverlabel": {
           "align": "left"
          },
          "hovermode": "closest",
          "mapbox": {
           "style": "light"
          },
          "paper_bgcolor": "white",
          "plot_bgcolor": "#E5ECF6",
          "polar": {
           "angularaxis": {
            "gridcolor": "white",
            "linecolor": "white",
            "ticks": ""
           },
           "bgcolor": "#E5ECF6",
           "radialaxis": {
            "gridcolor": "white",
            "linecolor": "white",
            "ticks": ""
           }
          },
          "scene": {
           "xaxis": {
            "backgroundcolor": "#E5ECF6",
            "gridcolor": "white",
            "gridwidth": 2,
            "linecolor": "white",
            "showbackground": true,
            "ticks": "",
            "zerolinecolor": "white"
           },
           "yaxis": {
            "backgroundcolor": "#E5ECF6",
            "gridcolor": "white",
            "gridwidth": 2,
            "linecolor": "white",
            "showbackground": true,
            "ticks": "",
            "zerolinecolor": "white"
           },
           "zaxis": {
            "backgroundcolor": "#E5ECF6",
            "gridcolor": "white",
            "gridwidth": 2,
            "linecolor": "white",
            "showbackground": true,
            "ticks": "",
            "zerolinecolor": "white"
           }
          },
          "shapedefaults": {
           "line": {
            "color": "#2a3f5f"
           }
          },
          "ternary": {
           "aaxis": {
            "gridcolor": "white",
            "linecolor": "white",
            "ticks": ""
           },
           "baxis": {
            "gridcolor": "white",
            "linecolor": "white",
            "ticks": ""
           },
           "bgcolor": "#E5ECF6",
           "caxis": {
            "gridcolor": "white",
            "linecolor": "white",
            "ticks": ""
           }
          },
          "title": {
           "x": 0.05
          },
          "xaxis": {
           "automargin": true,
           "gridcolor": "white",
           "linecolor": "white",
           "ticks": "",
           "title": {
            "standoff": 15
           },
           "zerolinecolor": "white",
           "zerolinewidth": 2
          },
          "yaxis": {
           "automargin": true,
           "gridcolor": "white",
           "linecolor": "white",
           "ticks": "",
           "title": {
            "standoff": 15
           },
           "zerolinecolor": "white",
           "zerolinewidth": 2
          }
         }
        },
        "title": {
         "text": "track_popularity over Decades for edm"
        },
        "updatemenus": [
         {
          "buttons": [
           {
            "args": [
             {
              "y": [
               [
                24,
                38.42857142857143,
                30.576274757690687,
                34.23893805309734
               ]
              ]
             },
             {
              "title": "track_popularity over Decades for edm",
              "yaxis": {
               "range": [
                24,
                61.31578947368421
               ]
              }
             },
             {
              "args": [
               {
                "selected_feature": "track_popularity"
               }
              ]
             }
            ],
            "label": "track_popularity",
            "method": "update"
           },
           {
            "args": [
             {
              "y": [
               [
                0.738,
                0.7356428571428572,
                0.6572825537294564,
                0.6600796460176991
               ]
              ]
             },
             {
              "title": "danceability over Decades for edm",
              "yaxis": {
               "range": [
                0.46875609756097564,
                0.768830985915493
               ]
              }
             },
             {
              "args": [
               {
                "selected_feature": "danceability"
               }
              ]
             }
            ],
            "label": "danceability",
            "method": "update"
           },
           {
            "args": [
             {
              "y": [
               [
                0.5235000000000001,
                0.7210714285714286,
                0.8108516645596292,
                0.7783008849557522
               ]
              ]
             },
             {
              "title": "energy over Decades for edm",
              "yaxis": {
               "range": [
                0.5235000000000001,
                0.962
               ]
              }
             },
             {
              "args": [
               {
                "selected_feature": "energy"
               }
              ]
             }
            ],
            "label": "energy",
            "method": "update"
           },
           {
            "args": [
             {
              "y": [
               [
                8,
                5.428571428571429,
                5.351243152128108,
                5.398230088495575
               ]
              ]
             },
             {
              "title": "key over Decades for edm",
              "yaxis": {
               "range": [
                4.076923076923077,
                8
               ]
              }
             },
             {
              "args": [
               {
                "selected_feature": "key"
               }
              ]
             }
            ],
            "label": "key",
            "method": "update"
           },
           {
            "args": [
             {
              "y": [
               [
                -12.41475,
                -9.739428571428572,
                -5.4528314369995785,
                -6.158300884955753
               ]
              ]
             },
             {
              "title": "loudness over Decades for edm",
              "yaxis": {
               "range": [
                -12.41475,
                -2.981
               ]
              }
             },
             {
              "args": [
               {
                "selected_feature": "loudness"
               }
              ]
             }
            ],
            "label": "loudness",
            "method": "update"
           },
           {
            "args": [
             {
              "y": [
               [
                0.5,
                0.42857142857142855,
                0.5181205225453013,
                0.4690265486725664
               ]
              ]
             },
             {
              "title": "mode over Decades for edm",
              "yaxis": {
               "range": [
                0.4144736842105263,
                1
               ]
              }
             },
             {
              "args": [
               {
                "selected_feature": "mode"
               }
              ]
             }
            ],
            "label": "mode",
            "method": "update"
           },
           {
            "args": [
             {
              "y": [
               [
                0.0543,
                0.07997857142857143,
                0.08776076696165191,
                0.09766106194690266
               ]
              ]
             },
             {
              "title": "speechiness over Decades for edm",
              "yaxis": {
               "range": [
                0.04182307692307692,
                0.2395528951486698
               ]
              }
             },
             {
              "args": [
               {
                "selected_feature": "speechiness"
               }
              ]
             }
            ],
            "label": "speechiness",
            "method": "update"
           },
           {
            "args": [
             {
              "y": [
               [
                0.0277725,
                0.068253,
                0.07598692695743785,
                0.1182713389380531
               ]
              ]
             },
             {
              "title": "acousticness over Decades for edm",
              "yaxis": {
               "range": [
                0.026814946829268292,
                0.589
               ]
              }
             },
             {
              "args": [
               {
                "selected_feature": "acousticness"
               }
              ]
             }
            ],
            "label": "acousticness",
            "method": "update"
           },
           {
            "args": [
             {
              "y": [
               [
                0.5169005,
                0.23951632142857143,
                0.2459462572018542,
                0.18739629451327433
               ]
              ]
             },
             {
              "title": "instrumentalness over Decades for edm",
              "yaxis": {
               "range": [
                0,
                0.5169005
               ]
              }
             },
             {
              "args": [
               {
                "selected_feature": "instrumentalness"
               }
              ]
             }
            ],
            "label": "instrumentalness",
            "method": "update"
           },
           {
            "args": [
             {
              "y": [
               [
                0.124775,
                0.17843571428571428,
                0.21467979351032448,
                0.2067008849557522
               ]
              ]
             },
             {
              "title": "liveness over Decades for edm",
              "yaxis": {
               "range": [
                0.056,
                0.298025
               ]
              }
             },
             {
              "args": [
               {
                "selected_feature": "liveness"
               }
              ]
             }
            ],
            "label": "liveness",
            "method": "update"
           },
           {
            "args": [
             {
              "y": [
               [
                0.8125,
                0.801142857142857,
                0.396240391908976,
                0.3853097345132743
               ]
              ]
             },
             {
              "title": "valence over Decades for edm",
              "yaxis": {
               "range": [
                0.3853097345132743,
                0.916
               ]
              }
             },
             {
              "args": [
               {
                "selected_feature": "valence"
               }
              ]
             }
            ],
            "label": "valence",
            "method": "update"
           },
           {
            "args": [
             {
              "y": [
               [
                125.68825,
                124.00764285714286,
                126.34870691108301,
                125.7722389380531
               ]
              ]
             },
             {
              "title": "tempo over Decades for edm",
              "yaxis": {
               "range": [
                104.286,
                175.94
               ]
              }
             },
             {
              "args": [
               {
                "selected_feature": "tempo"
               }
              ]
             }
            ],
            "label": "tempo",
            "method": "update"
           },
           {
            "args": [
             {
              "y": [
               [
                451863.75,
                305245.64285714284,
                226401.9203539823,
                193102.5663716814
               ]
              ]
             },
             {
              "title": "duration_ms over Decades for edm",
              "yaxis": {
               "range": [
                139166.5,
                451863.75
               ]
              }
             },
             {
              "args": [
               {
                "selected_feature": "duration_ms"
               }
              ]
             }
            ],
            "label": "duration_ms",
            "method": "update"
           }
          ],
          "direction": "down",
          "name": "feature_selector",
          "showactive": false,
          "x": 0.17,
          "y": 1.15
         },
         {
          "buttons": [
           {
            "args": [
             {
              "x": [
               [
                "1960s",
                "1980s",
                "2000s",
                "2020s"
               ]
              ],
              "y": [
               [
                24,
                38.42857142857143,
                30.576274757690687,
                34.23893805309734
               ]
              ]
             },
             {
              "title": "track_popularity over Decades for edm",
              "yaxis": {
               "range": [
                24,
                61.31578947368421
               ]
              }
             },
             {
              "args": [
               {
                "selected_genre": "edm"
               }
              ]
             }
            ],
            "label": "edm",
            "method": "update"
           },
           {
            "args": [
             {
              "x": [
               [
                "1960s",
                "1980s",
                "2000s",
                "2020s"
               ]
              ],
              "y": [
               [
                56,
                38.796954314720814,
                41.574329601666236,
                41.297872340425535
               ]
              ]
             },
             {
              "title": "track_popularity over Decades for latin",
              "yaxis": {
               "range": [
                24,
                61.31578947368421
               ]
              }
             },
             {
              "args": [
               {
                "selected_genre": "latin"
               }
              ]
             }
            ],
            "label": "latin",
            "method": "update"
           },
           {
            "args": [
             {
              "x": [
               [
                "1960s",
                "1980s",
                "2000s",
                "2020s"
               ]
              ],
              "y": [
               [
                61.31578947368421,
                43.0253164556962,
                45.977711738484395,
                46.2
               ]
              ]
             },
             {
              "title": "track_popularity over Decades for pop",
              "yaxis": {
               "range": [
                24,
                61.31578947368421
               ]
              }
             },
             {
              "args": [
               {
                "selected_genre": "pop"
               }
              ]
             }
            ],
            "label": "pop",
            "method": "update"
           },
           {
            "args": [
             {
              "x": [
               [
                "1940s",
                "1960s",
                "1980s",
                "2000s",
                "2020s"
               ]
              ],
              "y": [
               [
                59,
                45.58974358974359,
                32.01702610669694,
                36.661498708010335,
                37.90163934426229
               ]
              ]
             },
             {
              "title": "track_popularity over Decades for r&b",
              "yaxis": {
               "range": [
                24,
                61.31578947368421
               ]
              }
             },
             {
              "args": [
               {
                "selected_genre": "r&b"
               }
              ]
             }
            ],
            "label": "r&b",
            "method": "update"
           },
           {
            "args": [
             {
              "x": [
               [
                "1960s",
                "1980s",
                "2000s",
                "2020s"
               ]
              ],
              "y": [
               [
                44.46153846153846,
                38.82316118935837,
                41.99499346974314,
                49.828947368421055
               ]
              ]
             },
             {
              "title": "track_popularity over Decades for rap",
              "yaxis": {
               "range": [
                24,
                61.31578947368421
               ]
              }
             },
             {
              "args": [
               {
                "selected_genre": "rap"
               }
              ]
             }
            ],
            "label": "rap",
            "method": "update"
           },
           {
            "args": [
             {
              "x": [
               [
                "1940s",
                "1960s",
                "1980s",
                "2000s",
                "2020s"
               ]
              ],
              "y": [
               [
                37,
                44.12547051442911,
                44.56857855361596,
                35.59018567639257,
                37.09756097560975
               ]
              ]
             },
             {
              "title": "track_popularity over Decades for rock",
              "yaxis": {
               "range": [
                24,
                61.31578947368421
               ]
              }
             },
             {
              "args": [
               {
                "selected_genre": "rock"
               }
              ]
             }
            ],
            "label": "rock",
            "method": "update"
           }
          ],
          "direction": "down",
          "name": "genre_selector",
          "showactive": false,
          "x": 0.3,
          "y": 1.15
         }
        ],
        "xaxis": {
         "anchor": "y",
         "domain": [
          0,
          1
         ],
         "title": {
          "text": "release_decade"
         }
        },
        "yaxis": {
         "anchor": "x",
         "domain": [
          0,
          1
         ],
         "range": [
          -12.41475,
          451863.75
         ],
         "title": {
          "text": "track_popularity"
         }
        }
       }
      }
     },
     "metadata": {},
     "output_type": "display_data"
    }
   ],
   "source": [
    "import plotly.express as px\n",
    "\n",
    "# Load dataset\n",
    "df = average.copy()\n",
    "\n",
    "# Convert release_decade to string if necessary\n",
    "df['release_decade'] = df['release_decade'].astype(str)\n",
    "\n",
    "# Get unique genres and features\n",
    "genres = df['playlist_genre'].unique().tolist()\n",
    "features = df.columns[2:]\n",
    "\n",
    "# Default selections\n",
    "selected_genre = genres[0]\n",
    "selected_feature = features[0]\n",
    "filtered_df = df[df['playlist_genre'] == selected_genre]\n",
    "\n",
    "import plotly.express as px\n",
    "import plotly.graph_objects as go\n",
    "\n",
    "# Create figure\n",
    "fig = px.line(df[df['playlist_genre'] == selected_genre], x='release_decade', y=selected_feature,\n",
    "              title=f'{selected_feature} over Decades for {selected_genre}')\n",
    "\n",
    "fig.update_yaxes(range=[df[features].min().min(), df[features].max().max()])\n",
    "\n",
    "features = ['track_popularity', 'danceability', 'energy', 'key', 'loudness', \n",
    "            'mode', 'speechiness', 'acousticness', 'instrumentalness', \n",
    "            'liveness', 'valence', 'tempo', 'duration_ms']\n",
    "\n",
    "genres = df['playlist_genre'].unique()\n",
    "\n",
    "# Create a dictionary of feature buttons\n",
    "feature_buttons = {\n",
    "    feature: {\n",
    "        \"label\": feature, \n",
    "        \"method\": \"update\", \n",
    "        \"args\": [\n",
    "            {\"y\": [df[df['playlist_genre'] == selected_genre][feature]]},\n",
    "            {\"title\": f\"{feature} over Decades for {selected_genre}\",\n",
    "             \"yaxis\": {\"range\": [df[feature].min(), df[feature].max()]}},\n",
    "            {\"args\": [{\"selected_feature\": feature}]}\n",
    "        ]\n",
    "    }\n",
    "    for feature in features\n",
    "}\n",
    "\n",
    "# Create a dictionary of genre buttons\n",
    "genre_buttons = {\n",
    "    genre: {\n",
    "        \"label\": genre, \n",
    "        \"method\": \"update\", \n",
    "        \"args\": [\n",
    "            {\"y\": [df[df['playlist_genre'] == genre][selected_feature]],\n",
    "             \"x\": [df[df['playlist_genre'] == genre]['release_decade']]},\n",
    "            {\"title\": f\"{selected_feature} over Decades for {genre}\",\n",
    "             \"yaxis\": {\"range\": [df[selected_feature].min(), df[selected_feature].max()]}},\n",
    "            {\"args\": [{\"selected_genre\": genre}]}\n",
    "        ]\n",
    "    }\n",
    "    for genre in genres\n",
    "}\n",
    "\n",
    "fig.update_layout(\n",
    "    updatemenus=[\n",
    "        {\n",
    "            \"buttons\": [dict(feature_buttons[feature]) for feature in features],\n",
    "            \"direction\": \"down\",\n",
    "            \"showactive\": False,\n",
    "            \"x\": 0.17,\n",
    "            \"y\": 1.15,\n",
    "            \"name\": \"feature_selector\"\n",
    "        },\n",
    "        {\n",
    "            \"buttons\": [dict(genre_buttons[genre]) for genre in genres],\n",
    "            \"direction\": \"down\",\n",
    "            \"showactive\": False,\n",
    "            \"x\": 0.3,\n",
    "            \"y\": 1.15,\n",
    "            \"name\": \"genre_selector\"\n",
    "        }\n",
    "    ]\n",
    ")\n",
    "\n",
    "fig.show()"
   ]
  },
  {
   "cell_type": "code",
   "execution_count": null,
   "metadata": {},
   "outputs": [
    {
     "data": {
      "application/vnd.microsoft.datawrangler.viewer.v0+json": {
       "columns": [
        {
         "name": "index",
         "rawType": "int64",
         "type": "integer"
        },
        {
         "name": "playlist_genre",
         "rawType": "object",
         "type": "string"
        },
        {
         "name": "release_decade",
         "rawType": "object",
         "type": "string"
        },
        {
         "name": "track_popularity",
         "rawType": "float64",
         "type": "float"
        },
        {
         "name": "danceability",
         "rawType": "float64",
         "type": "float"
        },
        {
         "name": "energy",
         "rawType": "float64",
         "type": "float"
        },
        {
         "name": "key",
         "rawType": "float64",
         "type": "float"
        },
        {
         "name": "loudness",
         "rawType": "float64",
         "type": "float"
        },
        {
         "name": "mode",
         "rawType": "float64",
         "type": "float"
        },
        {
         "name": "speechiness",
         "rawType": "float64",
         "type": "float"
        },
        {
         "name": "acousticness",
         "rawType": "float64",
         "type": "float"
        },
        {
         "name": "instrumentalness",
         "rawType": "float64",
         "type": "float"
        },
        {
         "name": "liveness",
         "rawType": "float64",
         "type": "float"
        },
        {
         "name": "valence",
         "rawType": "float64",
         "type": "float"
        },
        {
         "name": "tempo",
         "rawType": "float64",
         "type": "float"
        },
        {
         "name": "duration_ms",
         "rawType": "float64",
         "type": "float"
        }
       ],
       "conversionMethod": "pd.DataFrame",
       "ref": "f0886115-decd-45f3-8e30-db97c2e0ea3b",
       "rows": [
        [
         "0",
         "edm",
         "1960s",
         "24.0",
         "0.738",
         "0.5235000000000001",
         "8.0",
         "-12.41475",
         "0.5",
         "0.0543",
         "0.0277725",
         "0.5169005",
         "0.124775",
         "0.8125",
         "125.68825",
         "451863.75"
        ],
        [
         "1",
         "edm",
         "1980s",
         "38.42857142857143",
         "0.7356428571428572",
         "0.7210714285714286",
         "5.428571428571429",
         "-9.739428571428572",
         "0.42857142857142855",
         "0.07997857142857143",
         "0.068253",
         "0.23951632142857143",
         "0.17843571428571428",
         "0.801142857142857",
         "124.00764285714286",
         "305245.64285714284"
        ],
        [
         "2",
         "edm",
         "2000s",
         "30.576274757690687",
         "0.6572825537294564",
         "0.8108516645596292",
         "5.351243152128108",
         "-5.4528314369995785",
         "0.5181205225453013",
         "0.08776076696165191",
         "0.07598692695743785",
         "0.2459462572018542",
         "0.21467979351032448",
         "0.396240391908976",
         "126.34870691108301",
         "226401.9203539823"
        ],
        [
         "3",
         "edm",
         "2020s",
         "34.23893805309734",
         "0.6600796460176991",
         "0.7783008849557522",
         "5.398230088495575",
         "-6.158300884955753",
         "0.4690265486725664",
         "0.09766106194690266",
         "0.1182713389380531",
         "0.18739629451327433",
         "0.2067008849557522",
         "0.3853097345132743",
         "125.7722389380531",
         "193102.5663716814"
        ],
        [
         "4",
         "latin",
         "1960s",
         "56.0",
         "0.67425",
         "0.70475",
         "5.75",
         "-6.9445",
         "0.75",
         "0.053325",
         "0.46799999999999997",
         "0.00042165000000000003",
         "0.298025",
         "0.8009999999999999",
         "104.286",
         "204559.75"
        ]
       ],
       "shape": {
        "columns": 15,
        "rows": 5
       }
      },
      "text/html": [
       "<div>\n",
       "<style scoped>\n",
       "    .dataframe tbody tr th:only-of-type {\n",
       "        vertical-align: middle;\n",
       "    }\n",
       "\n",
       "    .dataframe tbody tr th {\n",
       "        vertical-align: top;\n",
       "    }\n",
       "\n",
       "    .dataframe thead th {\n",
       "        text-align: right;\n",
       "    }\n",
       "</style>\n",
       "<table border=\"1\" class=\"dataframe\">\n",
       "  <thead>\n",
       "    <tr style=\"text-align: right;\">\n",
       "      <th></th>\n",
       "      <th>playlist_genre</th>\n",
       "      <th>release_decade</th>\n",
       "      <th>track_popularity</th>\n",
       "      <th>danceability</th>\n",
       "      <th>energy</th>\n",
       "      <th>key</th>\n",
       "      <th>loudness</th>\n",
       "      <th>mode</th>\n",
       "      <th>speechiness</th>\n",
       "      <th>acousticness</th>\n",
       "      <th>instrumentalness</th>\n",
       "      <th>liveness</th>\n",
       "      <th>valence</th>\n",
       "      <th>tempo</th>\n",
       "      <th>duration_ms</th>\n",
       "    </tr>\n",
       "  </thead>\n",
       "  <tbody>\n",
       "    <tr>\n",
       "      <th>0</th>\n",
       "      <td>edm</td>\n",
       "      <td>1960s</td>\n",
       "      <td>24.000000</td>\n",
       "      <td>0.738000</td>\n",
       "      <td>0.523500</td>\n",
       "      <td>8.000000</td>\n",
       "      <td>-12.414750</td>\n",
       "      <td>0.500000</td>\n",
       "      <td>0.054300</td>\n",
       "      <td>0.027772</td>\n",
       "      <td>0.516900</td>\n",
       "      <td>0.124775</td>\n",
       "      <td>0.812500</td>\n",
       "      <td>125.688250</td>\n",
       "      <td>451863.750000</td>\n",
       "    </tr>\n",
       "    <tr>\n",
       "      <th>1</th>\n",
       "      <td>edm</td>\n",
       "      <td>1980s</td>\n",
       "      <td>38.428571</td>\n",
       "      <td>0.735643</td>\n",
       "      <td>0.721071</td>\n",
       "      <td>5.428571</td>\n",
       "      <td>-9.739429</td>\n",
       "      <td>0.428571</td>\n",
       "      <td>0.079979</td>\n",
       "      <td>0.068253</td>\n",
       "      <td>0.239516</td>\n",
       "      <td>0.178436</td>\n",
       "      <td>0.801143</td>\n",
       "      <td>124.007643</td>\n",
       "      <td>305245.642857</td>\n",
       "    </tr>\n",
       "    <tr>\n",
       "      <th>2</th>\n",
       "      <td>edm</td>\n",
       "      <td>2000s</td>\n",
       "      <td>30.576275</td>\n",
       "      <td>0.657283</td>\n",
       "      <td>0.810852</td>\n",
       "      <td>5.351243</td>\n",
       "      <td>-5.452831</td>\n",
       "      <td>0.518121</td>\n",
       "      <td>0.087761</td>\n",
       "      <td>0.075987</td>\n",
       "      <td>0.245946</td>\n",
       "      <td>0.214680</td>\n",
       "      <td>0.396240</td>\n",
       "      <td>126.348707</td>\n",
       "      <td>226401.920354</td>\n",
       "    </tr>\n",
       "    <tr>\n",
       "      <th>3</th>\n",
       "      <td>edm</td>\n",
       "      <td>2020s</td>\n",
       "      <td>34.238938</td>\n",
       "      <td>0.660080</td>\n",
       "      <td>0.778301</td>\n",
       "      <td>5.398230</td>\n",
       "      <td>-6.158301</td>\n",
       "      <td>0.469027</td>\n",
       "      <td>0.097661</td>\n",
       "      <td>0.118271</td>\n",
       "      <td>0.187396</td>\n",
       "      <td>0.206701</td>\n",
       "      <td>0.385310</td>\n",
       "      <td>125.772239</td>\n",
       "      <td>193102.566372</td>\n",
       "    </tr>\n",
       "    <tr>\n",
       "      <th>4</th>\n",
       "      <td>latin</td>\n",
       "      <td>1960s</td>\n",
       "      <td>56.000000</td>\n",
       "      <td>0.674250</td>\n",
       "      <td>0.704750</td>\n",
       "      <td>5.750000</td>\n",
       "      <td>-6.944500</td>\n",
       "      <td>0.750000</td>\n",
       "      <td>0.053325</td>\n",
       "      <td>0.468000</td>\n",
       "      <td>0.000422</td>\n",
       "      <td>0.298025</td>\n",
       "      <td>0.801000</td>\n",
       "      <td>104.286000</td>\n",
       "      <td>204559.750000</td>\n",
       "    </tr>\n",
       "  </tbody>\n",
       "</table>\n",
       "</div>"
      ],
      "text/plain": [
       "  playlist_genre release_decade  track_popularity  danceability    energy  \\\n",
       "0            edm          1960s         24.000000      0.738000  0.523500   \n",
       "1            edm          1980s         38.428571      0.735643  0.721071   \n",
       "2            edm          2000s         30.576275      0.657283  0.810852   \n",
       "3            edm          2020s         34.238938      0.660080  0.778301   \n",
       "4          latin          1960s         56.000000      0.674250  0.704750   \n",
       "\n",
       "        key   loudness      mode  speechiness  acousticness  instrumentalness  \\\n",
       "0  8.000000 -12.414750  0.500000     0.054300      0.027772          0.516900   \n",
       "1  5.428571  -9.739429  0.428571     0.079979      0.068253          0.239516   \n",
       "2  5.351243  -5.452831  0.518121     0.087761      0.075987          0.245946   \n",
       "3  5.398230  -6.158301  0.469027     0.097661      0.118271          0.187396   \n",
       "4  5.750000  -6.944500  0.750000     0.053325      0.468000          0.000422   \n",
       "\n",
       "   liveness   valence       tempo    duration_ms  \n",
       "0  0.124775  0.812500  125.688250  451863.750000  \n",
       "1  0.178436  0.801143  124.007643  305245.642857  \n",
       "2  0.214680  0.396240  126.348707  226401.920354  \n",
       "3  0.206701  0.385310  125.772239  193102.566372  \n",
       "4  0.298025  0.801000  104.286000  204559.750000  "
      ]
     },
     "metadata": {},
     "output_type": "display_data"
    }
   ],
   "source": [
    "average = average_by_genre_decade.reset_index()\n",
    "average.head()"
   ]
  }
 ],
 "metadata": {
  "kernelspec": {
   "display_name": ".venv",
   "language": "python",
   "name": "python3"
  },
  "language_info": {
   "codemirror_mode": {
    "name": "ipython",
    "version": 3
   },
   "file_extension": ".py",
   "mimetype": "text/x-python",
   "name": "python",
   "nbconvert_exporter": "python",
   "pygments_lexer": "ipython3",
   "version": "3.8.10"
  }
 },
 "nbformat": 4,
 "nbformat_minor": 2
}
