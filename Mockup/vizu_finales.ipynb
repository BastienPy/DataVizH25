{
 "cells": [
  {
   "cell_type": "code",
   "execution_count": 1,
   "metadata": {},
   "outputs": [],
   "source": [
    "import numpy as np\n",
    "import pandas as pd\n",
    "import seaborn as sns\n",
    "import plotly.graph_objects as go\n",
    "import matplotlib.pyplot as plt"
   ]
  },
  {
   "cell_type": "code",
   "execution_count": 2,
   "metadata": {},
   "outputs": [],
   "source": [
    "# Load the CSV file\n",
    "file_path = \"dataset\\spotify_songs_clean.csv\"  # Replace with your CSV file path\n",
    "df = pd.read_csv(file_path)"
   ]
  },
  {
   "cell_type": "code",
   "execution_count": null,
   "metadata": {},
   "outputs": [
    {
     "name": "stderr",
     "output_type": "stream",
     "text": [
      "C:\\Users\\basti\\AppData\\Local\\Temp\\ipykernel_48664\\3128882436.py:8: SettingWithCopyWarning: \n",
      "A value is trying to be set on a copy of a slice from a DataFrame.\n",
      "Try using .loc[row_indexer,col_indexer] = value instead\n",
      "\n",
      "See the caveats in the documentation: https://pandas.pydata.org/pandas-docs/stable/user_guide/indexing.html#returning-a-view-versus-a-copy\n",
      "  df_filtered['track_album_release_date'] = pd.to_datetime(df_filtered['track_album_release_date'], errors='coerce')\n",
      "C:\\Users\\basti\\AppData\\Local\\Temp\\ipykernel_48664\\3128882436.py:11: SettingWithCopyWarning: \n",
      "A value is trying to be set on a copy of a slice from a DataFrame.\n",
      "Try using .loc[row_indexer,col_indexer] = value instead\n",
      "\n",
      "See the caveats in the documentation: https://pandas.pydata.org/pandas-docs/stable/user_guide/indexing.html#returning-a-view-versus-a-copy\n",
      "  df_filtered['decade'] = (df_filtered['track_album_release_date'].dt.year // 10) * 10\n"
     ]
    },
    {
     "data": {
      "text/plain": [
       "\"df_grouped = df_filtered.groupby(['playlist_subgenre', 'decade'])[numeric_cols].mean().reset_index()\\n\\n# Extract unique subgenres\\nsubgenres = df_grouped['playlist_subgenre'].unique()\\n\\n# Create one figure per subgenre\\nfor subgenre in subgenres:\\n    df_sub = df_grouped[df_grouped['playlist_subgenre'] == subgenre]\\n    \\n    fig = go.Figure()\\n    \\n    # Add a line for each numeric feature\\n    for feature in numeric_cols:\\n        fig.add_trace(go.Scatter(x=df_sub['decade'], y=df_sub[feature], mode='lines+markers', name=feature))\\n    \\n    # Customize layout\\n    fig.update_layout(\\n        title=f'Spotify Song Features for {subgenre} Over Time (Per Decade)',\\n        xaxis_title='Decade',\\n        yaxis_title='Value',\\n        template='plotly_dark'\\n    )\\n    \\n    fig.show()\""
      ]
     },
     "execution_count": 8,
     "metadata": {},
     "output_type": "execute_result"
    }
   ],
   "source": [
    "# Define the genre to analyze\n",
    "selected_genre = 'pop'  # Change this to user input if needed\n",
    "\n",
    "# Filter only the selected genre\n",
    "df_filtered = df[df['playlist_genre'] == selected_genre]\n",
    "\n",
    "# Convert 'track_album_release_date' to datetime if it's a string\n",
    "df_filtered['track_album_release_date'] = pd.to_datetime(df_filtered['track_album_release_date'], errors='coerce')\n",
    "\n",
    "# Create a new column for the decade\n",
    "df_filtered['decade'] = (df_filtered['track_album_release_date'].dt.year // 10) * 10\n",
    "\n",
    "# Select only numeric columns + necessary groupby columns\n",
    "numeric_cols = df_filtered.select_dtypes(float).columns\n",
    "df_grouped = df_filtered.groupby(['playlist_subgenre', 'decade'])[numeric_cols].mean().reset_index()\n",
    "\"\"\"\n",
    "# Extract unique subgenres\n",
    "subgenres = df_grouped['playlist_subgenre'].unique()\n",
    "\n",
    "# Create one figure per subgenre\n",
    "for subgenre in subgenres:\n",
    "    df_sub = df_grouped[df_grouped['playlist_subgenre'] == subgenre]\n",
    "    \n",
    "    fig = go.Figure()\n",
    "    \n",
    "    # Add a line for each numeric feature\n",
    "    for feature in numeric_cols:\n",
    "        fig.add_trace(go.Scatter(x=df_sub['decade'], y=df_sub[feature], mode='lines+markers', name=feature))\n",
    "    \n",
    "    # Customize layout\n",
    "    fig.update_layout(\n",
    "        title=f'Spotify Song Features for {subgenre} Over Time (Per Decade)',\n",
    "        xaxis_title='Decade',\n",
    "        yaxis_title='Value',\n",
    "        template='plotly_dark'\n",
    "    )\n",
    "    \n",
    "    fig.show()\"\"\"\n"
   ]
  },
  {
   "cell_type": "code",
   "execution_count": null,
   "metadata": {},
   "outputs": [],
   "source": [
    "    \"Turbo\"\n",
    "    \"Viridis\"\n",
    "    \"Cividis\"\n",
    "    \"Inferno\"\n",
    "    \"Magma\"\n",
    "    \"Plasma\"\n",
    "    \"Blues\"\n",
    "    \"Greens\"\n",
    "    \"Oranges\"\n",
    "    \"Reds\"\n",
    "    \"Purples\"\n",
    "    \"Greys\"\n",
    "    \"Hot\"\n",
    "    \"YlGnBu\" "
   ]
  },
  {
   "cell_type": "code",
   "execution_count": null,
   "metadata": {},
   "outputs": [],
   "source": [
    "df_numeric = df.select_dtypes(float)\n",
    "df_numeric[\"track_popularity\"] = df[\"track_popularity\"]\n",
    "\n",
    "df_numeric[\"popularity_bin\"] = (df_numeric[\"track_popularity\"] // 10)\n",
    "\n",
    "df_grouped = df_numeric.groupby(\"popularity_bin\").mean().reset_index()\n",
    "\n",
    "df_numeric = df_grouped.select_dtypes(float)\n",
    "\n",
    "# Étape 4 : Construire les dimensions pour le graphique\n",
    "dimensions = [\n",
    "    dict(label=col, values=df_numeric[col]) for col in df_numeric.columns\n",
    "]\n",
    "\n",
    "feature_order = [\"liveness\", \"energy\", \"instrumentalness\", \"tempo\",\n",
    "                 \"speechiness\", \"valence\", \"loudness\", \"danceability\",\n",
    "                 \"acousticness\", \"track_popularity\"]\n",
    "\n",
    "dimensions = [dict(label=col, values=df_numeric[col]) for col in feature_order if col in df_numeric.columns]\n",
    "colorscale = \"Turbo\"\n",
    "\n",
    "fig = go.Figure(data=go.Parcoords(\n",
    "    line=dict(color=df_numeric[\"track_popularity\"],\n",
    "              colorscale=colorscale,\n",
    "              cmin=0, cmax=100),\n",
    "            dimensions=dimensions\n",
    "))\n",
    "\n",
    "# Add a dummy Scatter trace to force the display of the colorbar\n",
    "fig.add_trace(go.Scatter(\n",
    "    x=[None], y=[None],  # Invisible points\n",
    "    mode='markers',\n",
    "    marker=dict(\n",
    "        colorscale=colorscale,\n",
    "        cmin=0, cmax=100,\n",
    "        colorbar=dict(title=\"Track Popularity\"),  # Add colorbar here\n",
    "    ),\n",
    "    showlegend=False\n",
    "))\n",
    "\n",
    "fig.show()"
   ]
  }
 ],
 "metadata": {
  "kernelspec": {
   "display_name": "venv",
   "language": "python",
   "name": "python3"
  },
  "language_info": {
   "codemirror_mode": {
    "name": "ipython",
    "version": 3
   },
   "file_extension": ".py",
   "mimetype": "text/x-python",
   "name": "python",
   "nbconvert_exporter": "python",
   "pygments_lexer": "ipython3",
   "version": "3.8.10"
  }
 },
 "nbformat": 4,
 "nbformat_minor": 2
}
